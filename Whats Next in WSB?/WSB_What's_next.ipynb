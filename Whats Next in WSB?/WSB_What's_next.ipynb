{
 "cells": [
  {
   "cell_type": "code",
   "execution_count": 1,
   "metadata": {},
   "outputs": [
    {
     "name": "stdout",
     "output_type": "stream",
     "text": [
      "Collecting psaw\n",
      "  Downloading psaw-0.1.0-py3-none-any.whl (15 kB)\n",
      "Requirement already satisfied: requests in /Users/sprihajoshi/opt/anaconda3/lib/python3.7/site-packages (from psaw) (2.22.0)\n",
      "Requirement already satisfied: Click in /Users/sprihajoshi/opt/anaconda3/lib/python3.7/site-packages (from psaw) (7.0)\n",
      "Requirement already satisfied: certifi>=2017.4.17 in /Users/sprihajoshi/opt/anaconda3/lib/python3.7/site-packages (from requests->psaw) (2019.9.11)\n",
      "Requirement already satisfied: idna<2.9,>=2.5 in /Users/sprihajoshi/opt/anaconda3/lib/python3.7/site-packages (from requests->psaw) (2.8)\n",
      "Requirement already satisfied: chardet<3.1.0,>=3.0.2 in /Users/sprihajoshi/opt/anaconda3/lib/python3.7/site-packages (from requests->psaw) (3.0.4)\n",
      "Requirement already satisfied: urllib3!=1.25.0,!=1.25.1,<1.26,>=1.21.1 in /Users/sprihajoshi/opt/anaconda3/lib/python3.7/site-packages (from requests->psaw) (1.24.2)\n",
      "Installing collected packages: psaw\n",
      "Successfully installed psaw-0.1.0\n"
     ]
    }
   ],
   "source": [
    "!pip install psaw"
   ]
  },
  {
   "cell_type": "code",
   "execution_count": 4,
   "metadata": {},
   "outputs": [
    {
     "name": "stderr",
     "output_type": "stream",
     "text": [
      "[nltk_data] Downloading package vader_lexicon to\n",
      "[nltk_data]     /Users/sprihajoshi/nltk_data...\n",
      "[nltk_data]   Package vader_lexicon is already up-to-date!\n"
     ]
    }
   ],
   "source": [
    "from psaw import PushshiftAPI\n",
    "import matplotlib.pyplot as plt \n",
    "import matplotlib.ticker as ticker\n",
    "import seaborn as sns\n",
    "import pandas as pd\n",
    "import datetime\n",
    "\n",
    "import nltk; nltk.download('vader_lexicon')\n",
    "from nltk.sentiment.vader import SentimentIntensityAnalyzer\n",
    "from nltk.corpus import stopwords\n",
    "from nltk import FreqDist \n",
    "import re\n",
    "import requests, json\n",
    "import os"
   ]
  },
  {
   "cell_type": "code",
   "execution_count": 16,
   "metadata": {},
   "outputs": [],
   "source": [
    "#api = PushshiftAPI()\n",
    "#start=int(datetime.datetime(2021, 2, 10).timestamp())\n",
    "#end=int(datetime.datetime(2021, 2, 28).timestamp())\n",
    "\n",
    "#api_request_generator = api.search_submissions(subreddit='wallstreetbets', after=start, before=end)"
   ]
  },
  {
   "cell_type": "code",
   "execution_count": 17,
   "metadata": {},
   "outputs": [],
   "source": [
    "#wsb_submissions = pd.DataFrame([submission.d_ for submission in api_request_generator])"
   ]
  },
  {
   "cell_type": "code",
   "execution_count": 18,
   "metadata": {},
   "outputs": [],
   "source": [
    "#wsb_submissions.to_csv(\"posts_retrieved_from_api.csv\")"
   ]
  },
  {
   "cell_type": "code",
   "execution_count": 19,
   "metadata": {},
   "outputs": [
    {
     "name": "stderr",
     "output_type": "stream",
     "text": [
      "/Users/sprihajoshi/opt/anaconda3/lib/python3.7/site-packages/IPython/core/interactiveshell.py:3058: DtypeWarning: Columns (4,68,80,81,82,83) have mixed types. Specify dtype option on import or set low_memory=False.\n",
      "  interactivity=interactivity, compiler=compiler, result=result)\n"
     ]
    }
   ],
   "source": [
    "wsb_submissions = pd.read_csv(\"posts_retrieved_from_api.csv\")"
   ]
  },
  {
   "cell_type": "code",
   "execution_count": 20,
   "metadata": {},
   "outputs": [],
   "source": [
    "wsb_submissions['date'] = pd.to_datetime(wsb_submissions['created_utc'], utc=True, unit='s')"
   ]
  },
  {
   "cell_type": "code",
   "execution_count": 21,
   "metadata": {},
   "outputs": [
    {
     "data": {
      "text/plain": [
       "array(['Meme', 'Discussion', 'Loss', 'News', 'YOLO', 'Chart', 'Gain',\n",
       "       'DD', nan, 'Earnings Thread', 'Shitpost', 'Weekend Discussion',\n",
       "       'Daily Discussion', 'Mods', 'OC'], dtype=object)"
      ]
     },
     "execution_count": 21,
     "metadata": {},
     "output_type": "execute_result"
    }
   ],
   "source": [
    "# Tags in WSB\n",
    "wsb_submissions[\"link_flair_text\"].unique()"
   ]
  },
  {
   "cell_type": "code",
   "execution_count": 22,
   "metadata": {},
   "outputs": [],
   "source": [
    "DDdata = wsb_submissions[wsb_submissions[\"link_flair_text\"] == \"DD\"][[\"id\", \"title\"]]\n",
    "YOLOdata = wsb_submissions[wsb_submissions[\"link_flair_text\"] == \"YOLO\"][[\"id\", \"title\"]]"
   ]
  },
  {
   "cell_type": "code",
   "execution_count": 23,
   "metadata": {},
   "outputs": [],
   "source": [
    "tickers = pd.read_csv(\"tickers.csv\")\n",
    "# https://github.com/tomsant/wsbTrendingStonks"
   ]
  },
  {
   "cell_type": "code",
   "execution_count": 100,
   "metadata": {},
   "outputs": [
    {
     "data": {
      "text/html": [
       "<div>\n",
       "<style scoped>\n",
       "    .dataframe tbody tr th:only-of-type {\n",
       "        vertical-align: middle;\n",
       "    }\n",
       "\n",
       "    .dataframe tbody tr th {\n",
       "        vertical-align: top;\n",
       "    }\n",
       "\n",
       "    .dataframe thead th {\n",
       "        text-align: right;\n",
       "    }\n",
       "</style>\n",
       "<table border=\"1\" class=\"dataframe\">\n",
       "  <thead>\n",
       "    <tr style=\"text-align: right;\">\n",
       "      <th></th>\n",
       "      <th>Symbol</th>\n",
       "      <th>Name</th>\n",
       "    </tr>\n",
       "  </thead>\n",
       "  <tbody>\n",
       "    <tr>\n",
       "      <td>0</td>\n",
       "      <td>A</td>\n",
       "      <td>Agilent Technologies Inc. Common Stock</td>\n",
       "    </tr>\n",
       "    <tr>\n",
       "      <td>1</td>\n",
       "      <td>AA</td>\n",
       "      <td>Alcoa Corporation Common Stock</td>\n",
       "    </tr>\n",
       "    <tr>\n",
       "      <td>2</td>\n",
       "      <td>AACG</td>\n",
       "      <td>ATA Creativity Global American Depositary Shares</td>\n",
       "    </tr>\n",
       "    <tr>\n",
       "      <td>3</td>\n",
       "      <td>AACQ</td>\n",
       "      <td>Artius Acquisition Inc. Class A Common Stock</td>\n",
       "    </tr>\n",
       "    <tr>\n",
       "      <td>4</td>\n",
       "      <td>AACQU</td>\n",
       "      <td>Artius Acquisition Inc. Unit</td>\n",
       "    </tr>\n",
       "  </tbody>\n",
       "</table>\n",
       "</div>"
      ],
      "text/plain": [
       "  Symbol                                              Name\n",
       "0      A            Agilent Technologies Inc. Common Stock\n",
       "1     AA                    Alcoa Corporation Common Stock\n",
       "2   AACG  ATA Creativity Global American Depositary Shares\n",
       "3   AACQ      Artius Acquisition Inc. Class A Common Stock\n",
       "4  AACQU                      Artius Acquisition Inc. Unit"
      ]
     },
     "execution_count": 100,
     "metadata": {},
     "output_type": "execute_result"
    }
   ],
   "source": [
    "tickers.head()"
   ]
  },
  {
   "cell_type": "code",
   "execution_count": 24,
   "metadata": {},
   "outputs": [],
   "source": [
    "tickers_dict = dict()\n",
    "\n",
    "for _ in range(len(tickers)):\n",
    "    tickers_dict[tickers.iloc[_, 0]] = tickers.iloc[_, 1]"
   ]
  },
  {
   "cell_type": "markdown",
   "metadata": {},
   "source": [
    "After a thorough examination of the posts, they were cleaned and processed in the following manner: <br>\n",
    "(1) Punctuation marks were removes -> this also excluded any of the emojis made by the users using punctuation marks <br>\n",
    "(2) The text was tokenised <br>\n",
    "(3) stop words were remved as they dont add any meaning(sentiment)<br>\n",
    "(4) words like DD, YOLO were removed as they could be mistaken for stock tickers in the pipeline later on whereas the users mostly added to update each other on their standings(YOLO) on a particular stock or make a Due Diligence.\n",
    "eg. \" AMC DD\" <br>"
   ]
  },
  {
   "cell_type": "code",
   "execution_count": 25,
   "metadata": {},
   "outputs": [],
   "source": [
    "def remove_stopword(listt):\n",
    "    return [word for word in listt if word.lower() not in stopwords.words('english')]\n",
    "\n",
    "def clean(series):\n",
    "    #Look for tickers and keep them caps, make the rest small\n",
    "    #remove stopwords\n",
    "    #remove punctuation marks\n",
    "    #remove DD, Yolo, YOLO \n",
    "    s=[]\n",
    "    \n",
    "    for index, title in series.iteritems():\n",
    "        \n",
    "        #Remove punctuations\n",
    "        title = re.sub(r'[^\\w\\s]', '', title) \n",
    "        \n",
    "        #Tokenize\n",
    "        title_into_words = title.split()\n",
    "        \n",
    "        #Remove stopwords\n",
    "        title_wo_sw = remove_stopword(title_into_words)\n",
    "        \n",
    "        if \"DD\" in title_wo_sw:\n",
    "            title_wo_sw.remove(\"DD\")\n",
    "        if \"YOLO\" in title_wo_sw:\n",
    "            title_wo_sw.remove(\"YOLO\")\n",
    "        if \"Yolo\" in title_wo_sw:\n",
    "            title_wo_sw.remove(\"Yolo\")\n",
    "        \n",
    "        new_list = []\n",
    "        \n",
    "        for word in title_wo_sw:\n",
    "            if word not in tickers_dict.keys():\n",
    "                new_list.append(word.lower()) \n",
    "            else:\n",
    "                new_list.append(word.upper())\n",
    "                    \n",
    "        #print(title_wo_sw)\n",
    "        s.append(new_list)\n",
    "        \n",
    "    return s"
   ]
  },
  {
   "cell_type": "code",
   "execution_count": 26,
   "metadata": {},
   "outputs": [],
   "source": [
    "DDdata[\"Tokenized\"] = clean(DDdata[\"title\"])\n",
    "YOLOdata[\"Tokenized\"] = clean(YOLOdata[\"title\"])"
   ]
  },
  {
   "cell_type": "code",
   "execution_count": 27,
   "metadata": {},
   "outputs": [
    {
     "data": {
      "text/html": [
       "<div>\n",
       "<style scoped>\n",
       "    .dataframe tbody tr th:only-of-type {\n",
       "        vertical-align: middle;\n",
       "    }\n",
       "\n",
       "    .dataframe tbody tr th {\n",
       "        vertical-align: top;\n",
       "    }\n",
       "\n",
       "    .dataframe thead th {\n",
       "        text-align: right;\n",
       "    }\n",
       "</style>\n",
       "<table border=\"1\" class=\"dataframe\">\n",
       "  <thead>\n",
       "    <tr style=\"text-align: right;\">\n",
       "      <th></th>\n",
       "      <th>title</th>\n",
       "      <th>Tokenized</th>\n",
       "    </tr>\n",
       "  </thead>\n",
       "  <tbody>\n",
       "    <tr>\n",
       "      <td>23</td>\n",
       "      <td>Using Covered Calls to Buy Volatile Stocks lik...</td>\n",
       "      <td>[using, covered, calls, buy, volatile, stocks,...</td>\n",
       "    </tr>\n",
       "    <tr>\n",
       "      <td>93</td>\n",
       "      <td>Meme stock price target</td>\n",
       "      <td>[meme, stock, price, target]</td>\n",
       "    </tr>\n",
       "    <tr>\n",
       "      <td>116</td>\n",
       "      <td>Cryptography DD</td>\n",
       "      <td>[cryptography]</td>\n",
       "    </tr>\n",
       "    <tr>\n",
       "      <td>150</td>\n",
       "      <td>This is...</td>\n",
       "      <td>[]</td>\n",
       "    </tr>\n",
       "    <tr>\n",
       "      <td>165</td>\n",
       "      <td>I see a lot of memes about AMC and other stock...</td>\n",
       "      <td>[see, lot, memes, AMC, stocks, GME]</td>\n",
       "    </tr>\n",
       "  </tbody>\n",
       "</table>\n",
       "</div>"
      ],
      "text/plain": [
       "                                                 title  \\\n",
       "23   Using Covered Calls to Buy Volatile Stocks lik...   \n",
       "93                             Meme stock price target   \n",
       "116                                    Cryptography DD   \n",
       "150                                         This is...   \n",
       "165  I see a lot of memes about AMC and other stock...   \n",
       "\n",
       "                                             Tokenized  \n",
       "23   [using, covered, calls, buy, volatile, stocks,...  \n",
       "93                        [meme, stock, price, target]  \n",
       "116                                     [cryptography]  \n",
       "150                                                 []  \n",
       "165                [see, lot, memes, AMC, stocks, GME]  "
      ]
     },
     "execution_count": 27,
     "metadata": {},
     "output_type": "execute_result"
    }
   ],
   "source": [
    "DDdata[[\"title\",\"Tokenized\"]].head()"
   ]
  },
  {
   "cell_type": "code",
   "execution_count": 99,
   "metadata": {},
   "outputs": [
    {
     "data": {
      "text/html": [
       "<div>\n",
       "<style scoped>\n",
       "    .dataframe tbody tr th:only-of-type {\n",
       "        vertical-align: middle;\n",
       "    }\n",
       "\n",
       "    .dataframe tbody tr th {\n",
       "        vertical-align: top;\n",
       "    }\n",
       "\n",
       "    .dataframe thead th {\n",
       "        text-align: right;\n",
       "    }\n",
       "</style>\n",
       "<table border=\"1\" class=\"dataframe\">\n",
       "  <thead>\n",
       "    <tr style=\"text-align: right;\">\n",
       "      <th></th>\n",
       "      <th>title</th>\n",
       "      <th>Tokenized</th>\n",
       "    </tr>\n",
       "  </thead>\n",
       "  <tbody>\n",
       "    <tr>\n",
       "      <td>107625</td>\n",
       "      <td>Real reasons I think bitTorrent is going to bl...</td>\n",
       "      <td>[real, reasons, think, bittorrent, going, blow]</td>\n",
       "    </tr>\n",
       "    <tr>\n",
       "      <td>107629</td>\n",
       "      <td>Holding 🍿, 1️⃣4️⃣0️⃣0️⃣0️⃣ $GME for #MOASS 🚀 o...</td>\n",
       "      <td>[holding, 14000, GME, moass, retirement]</td>\n",
       "    </tr>\n",
       "    <tr>\n",
       "      <td>107630</td>\n",
       "      <td>WHOS READY TO THROW 💎👊 FOR DFV???</td>\n",
       "      <td>[whos, ready, throw, dfv]</td>\n",
       "    </tr>\n",
       "    <tr>\n",
       "      <td>107634</td>\n",
       "      <td>Loss porn: started with 3 shares @ $234 and ha...</td>\n",
       "      <td>[loss, porn, started, 3, shares, 234, done, ul...</td>\n",
       "    </tr>\n",
       "    <tr>\n",
       "      <td>107637</td>\n",
       "      <td>🙌🏼 💎</td>\n",
       "      <td>[]</td>\n",
       "    </tr>\n",
       "  </tbody>\n",
       "</table>\n",
       "</div>"
      ],
      "text/plain": [
       "                                                    title  \\\n",
       "107625  Real reasons I think bitTorrent is going to bl...   \n",
       "107629  Holding 🍿, 1️⃣4️⃣0️⃣0️⃣0️⃣ $GME for #MOASS 🚀 o...   \n",
       "107630                  WHOS READY TO THROW 💎👊 FOR DFV???   \n",
       "107634  Loss porn: started with 3 shares @ $234 and ha...   \n",
       "107637                                               🙌🏼 💎   \n",
       "\n",
       "                                                Tokenized  \n",
       "107625    [real, reasons, think, bittorrent, going, blow]  \n",
       "107629           [holding, 14000, GME, moass, retirement]  \n",
       "107630                          [whos, ready, throw, dfv]  \n",
       "107634  [loss, porn, started, 3, shares, 234, done, ul...  \n",
       "107637                                                 []  "
      ]
     },
     "execution_count": 99,
     "metadata": {},
     "output_type": "execute_result"
    }
   ],
   "source": [
    "YOLOdata[[\"title\",\"Tokenized\"]].tail()"
   ]
  },
  {
   "cell_type": "markdown",
   "metadata": {},
   "source": [
    "As we can see from the results above: emojis, punctuation marks etc were removed and only the rest are split into tokens where stock tickers are still kept in upper case whereas the rest was made to lowercase to be able to differentiate them easily i.e. to not confuse them with comments that are all in uppercase eg. A is a ticker too but the user probably wrote the comment in uppercase and did not mean to mention the stock A. Same with tickers named GO, NEXT etc.  "
   ]
  },
  {
   "cell_type": "code",
   "execution_count": 29,
   "metadata": {},
   "outputs": [],
   "source": [
    "def getCount(data):\n",
    "    ticker_count = FreqDist()\n",
    "    for listt in data.Tokenized:\n",
    "        for word in listt:\n",
    "            if word in tickers_dict.keys():\n",
    "                ticker_count[word] += 1\n",
    "    return ticker_count"
   ]
  },
  {
   "cell_type": "code",
   "execution_count": 30,
   "metadata": {},
   "outputs": [],
   "source": [
    "def todf(ticker_count):\n",
    "    df = pd.DataFrame.from_dict(ticker_count, orient='index')\n",
    "    df.columns = ['Frequency']\n",
    "    df.index.name = 'Ticker'\n",
    "    df.sort_values(by=\"Frequency\", ascending=False, inplace=True)\n",
    "    df.reset_index(inplace=True)\n",
    "    return df"
   ]
  },
  {
   "cell_type": "markdown",
   "metadata": {},
   "source": [
    "Now that we have our data cleaned and our tickers ready, we can count the number of times these tickers were mentioned in each of the two categories (DD and YOLO) to find out the most talked about tickers. This can then be presented using a Frequency plot. "
   ]
  },
  {
   "cell_type": "code",
   "execution_count": 31,
   "metadata": {},
   "outputs": [],
   "source": [
    "DDdata_count = getCount(DDdata)\n",
    "YOLOdata_count = getCount(YOLOdata)"
   ]
  },
  {
   "cell_type": "code",
   "execution_count": 32,
   "metadata": {},
   "outputs": [],
   "source": [
    "DDdf = todf(DDdata_count)\n",
    "YOLOdf = todf(YOLOdata_count)"
   ]
  },
  {
   "cell_type": "code",
   "execution_count": 33,
   "metadata": {},
   "outputs": [
    {
     "data": {
      "text/html": [
       "<div>\n",
       "<style scoped>\n",
       "    .dataframe tbody tr th:only-of-type {\n",
       "        vertical-align: middle;\n",
       "    }\n",
       "\n",
       "    .dataframe tbody tr th {\n",
       "        vertical-align: top;\n",
       "    }\n",
       "\n",
       "    .dataframe thead th {\n",
       "        text-align: right;\n",
       "    }\n",
       "</style>\n",
       "<table border=\"1\" class=\"dataframe\">\n",
       "  <thead>\n",
       "    <tr style=\"text-align: right;\">\n",
       "      <th></th>\n",
       "      <th>Ticker</th>\n",
       "      <th>Frequency</th>\n",
       "    </tr>\n",
       "  </thead>\n",
       "  <tbody>\n",
       "    <tr>\n",
       "      <td>0</td>\n",
       "      <td>GME</td>\n",
       "      <td>549</td>\n",
       "    </tr>\n",
       "    <tr>\n",
       "      <td>1</td>\n",
       "      <td>AMC</td>\n",
       "      <td>234</td>\n",
       "    </tr>\n",
       "    <tr>\n",
       "      <td>2</td>\n",
       "      <td>SNDL</td>\n",
       "      <td>168</td>\n",
       "    </tr>\n",
       "    <tr>\n",
       "      <td>3</td>\n",
       "      <td>SOS</td>\n",
       "      <td>99</td>\n",
       "    </tr>\n",
       "    <tr>\n",
       "      <td>4</td>\n",
       "      <td>PLTR</td>\n",
       "      <td>94</td>\n",
       "    </tr>\n",
       "    <tr>\n",
       "      <td>5</td>\n",
       "      <td>TLRY</td>\n",
       "      <td>81</td>\n",
       "    </tr>\n",
       "    <tr>\n",
       "      <td>6</td>\n",
       "      <td>RKT</td>\n",
       "      <td>58</td>\n",
       "    </tr>\n",
       "    <tr>\n",
       "      <td>7</td>\n",
       "      <td>EV</td>\n",
       "      <td>55</td>\n",
       "    </tr>\n",
       "    <tr>\n",
       "      <td>8</td>\n",
       "      <td>APHA</td>\n",
       "      <td>50</td>\n",
       "    </tr>\n",
       "    <tr>\n",
       "      <td>9</td>\n",
       "      <td>BB</td>\n",
       "      <td>46</td>\n",
       "    </tr>\n",
       "  </tbody>\n",
       "</table>\n",
       "</div>"
      ],
      "text/plain": [
       "  Ticker  Frequency\n",
       "0    GME        549\n",
       "1    AMC        234\n",
       "2   SNDL        168\n",
       "3    SOS         99\n",
       "4   PLTR         94\n",
       "5   TLRY         81\n",
       "6    RKT         58\n",
       "7     EV         55\n",
       "8   APHA         50\n",
       "9     BB         46"
      ]
     },
     "execution_count": 33,
     "metadata": {},
     "output_type": "execute_result"
    }
   ],
   "source": [
    "DDdf.head(10) "
   ]
  },
  {
   "cell_type": "code",
   "execution_count": 34,
   "metadata": {},
   "outputs": [
    {
     "data": {
      "text/plain": [
       "['GameStop Corporation Common Stock',\n",
       " 'AMC Entertainment Holdings Inc. Class A Common Stock',\n",
       " 'Sundial Growers Inc. Common Shares',\n",
       " 'SOS Limited American Depositary Shares',\n",
       " 'Palantir Technologies Inc. Class A Common Stock',\n",
       " 'Tilray Inc. Class 2 Common Stock',\n",
       " 'Rocket Companies Inc. Class A Common Stock',\n",
       " 'Eaton Vance Corporation Common Stock',\n",
       " 'Aphria Inc. Common Shares',\n",
       " 'BlackBerry Limited Common Stock']"
      ]
     },
     "execution_count": 34,
     "metadata": {},
     "output_type": "execute_result"
    }
   ],
   "source": [
    "[tickers_dict.get(ticker) for ticker in DDdf.Ticker.head(10) if ticker in tickers_dict.keys()]"
   ]
  },
  {
   "cell_type": "code",
   "execution_count": 35,
   "metadata": {},
   "outputs": [
    {
     "data": {
      "text/html": [
       "<div>\n",
       "<style scoped>\n",
       "    .dataframe tbody tr th:only-of-type {\n",
       "        vertical-align: middle;\n",
       "    }\n",
       "\n",
       "    .dataframe tbody tr th {\n",
       "        vertical-align: top;\n",
       "    }\n",
       "\n",
       "    .dataframe thead th {\n",
       "        text-align: right;\n",
       "    }\n",
       "</style>\n",
       "<table border=\"1\" class=\"dataframe\">\n",
       "  <thead>\n",
       "    <tr style=\"text-align: right;\">\n",
       "      <th></th>\n",
       "      <th>Ticker</th>\n",
       "      <th>Frequency</th>\n",
       "    </tr>\n",
       "  </thead>\n",
       "  <tbody>\n",
       "    <tr>\n",
       "      <td>0</td>\n",
       "      <td>GME</td>\n",
       "      <td>1564</td>\n",
       "    </tr>\n",
       "    <tr>\n",
       "      <td>1</td>\n",
       "      <td>AMC</td>\n",
       "      <td>1196</td>\n",
       "    </tr>\n",
       "    <tr>\n",
       "      <td>2</td>\n",
       "      <td>SNDL</td>\n",
       "      <td>544</td>\n",
       "    </tr>\n",
       "    <tr>\n",
       "      <td>3</td>\n",
       "      <td>PLTR</td>\n",
       "      <td>269</td>\n",
       "    </tr>\n",
       "    <tr>\n",
       "      <td>4</td>\n",
       "      <td>TLRY</td>\n",
       "      <td>120</td>\n",
       "    </tr>\n",
       "    <tr>\n",
       "      <td>5</td>\n",
       "      <td>CCIV</td>\n",
       "      <td>112</td>\n",
       "    </tr>\n",
       "    <tr>\n",
       "      <td>6</td>\n",
       "      <td>NOK</td>\n",
       "      <td>98</td>\n",
       "    </tr>\n",
       "    <tr>\n",
       "      <td>7</td>\n",
       "      <td>GO</td>\n",
       "      <td>97</td>\n",
       "    </tr>\n",
       "    <tr>\n",
       "      <td>8</td>\n",
       "      <td>SOS</td>\n",
       "      <td>90</td>\n",
       "    </tr>\n",
       "    <tr>\n",
       "      <td>9</td>\n",
       "      <td>CTRM</td>\n",
       "      <td>83</td>\n",
       "    </tr>\n",
       "  </tbody>\n",
       "</table>\n",
       "</div>"
      ],
      "text/plain": [
       "  Ticker  Frequency\n",
       "0    GME       1564\n",
       "1    AMC       1196\n",
       "2   SNDL        544\n",
       "3   PLTR        269\n",
       "4   TLRY        120\n",
       "5   CCIV        112\n",
       "6    NOK         98\n",
       "7     GO         97\n",
       "8    SOS         90\n",
       "9   CTRM         83"
      ]
     },
     "execution_count": 35,
     "metadata": {},
     "output_type": "execute_result"
    }
   ],
   "source": [
    "YOLOdf.head(10)"
   ]
  },
  {
   "cell_type": "code",
   "execution_count": 36,
   "metadata": {},
   "outputs": [
    {
     "data": {
      "text/plain": [
       "['GameStop Corporation Common Stock',\n",
       " 'AMC Entertainment Holdings Inc. Class A Common Stock',\n",
       " 'Sundial Growers Inc. Common Shares',\n",
       " 'Palantir Technologies Inc. Class A Common Stock',\n",
       " 'Tilray Inc. Class 2 Common Stock',\n",
       " 'Churchill Capital Corp IV Class A Common Stock',\n",
       " 'Nokia Corporation Sponsored American Depositary Shares',\n",
       " 'Grocery Outlet Holding Corp. Common Stock',\n",
       " 'SOS Limited American Depositary Shares',\n",
       " 'Castor Maritime Inc. Common Shares']"
      ]
     },
     "execution_count": 36,
     "metadata": {},
     "output_type": "execute_result"
    }
   ],
   "source": [
    "[tickers_dict.get(ticker) for ticker in YOLOdf.Ticker.head(10) if ticker in tickers_dict.keys()]"
   ]
  },
  {
   "cell_type": "code",
   "execution_count": 37,
   "metadata": {
    "scrolled": false
   },
   "outputs": [
    {
     "data": {
      "text/plain": [
       "<matplotlib.axes._subplots.AxesSubplot at 0x7ffd6ec187d0>"
      ]
     },
     "execution_count": 37,
     "metadata": {},
     "output_type": "execute_result"
    },
    {
     "data": {
      "image/png": "[encoded data removed]",
      "text/plain": [
       "<Figure size 864x1080 with 2 Axes>"
      ]
     },
     "metadata": {
      "needs_background": "light"
     },
     "output_type": "display_data"
    }
   ],
   "source": [
    "fig, ax = plt.subplots(2, figsize=(12,15))\n",
    "sns.barplot(y='Ticker', x='Frequency', data=DDdf.head(20), ax=ax[0])\n",
    "sns.barplot(y='Ticker', x='Frequency', data=YOLOdf.head(20), ax=ax[1])"
   ]
  },
  {
   "cell_type": "markdown",
   "metadata": {},
   "source": [
    "Here we see GME is still the most talked about ticker in both DD and YOLO - as the GME was decreasing in the chosen time period (10th Feb-28th Feb 2021). However besides GME, we see AMC, SNDL, SOS, PLTR and TLRY as the top tickers in DD posts and AMC, SNDL, PLTR, TLRY and CCIV as the top tickers in YOLO posts.\n",
    "\n",
    "Now, lets look at the comments of the posts above and extract the sentiment towards each ticker to further understand if these ticker popularity is positive or negative! "
   ]
  },
  {
   "cell_type": "markdown",
   "metadata": {},
   "source": [
    "## Sentiment towards top 10 tickers"
   ]
  },
  {
   "cell_type": "code",
   "execution_count": 38,
   "metadata": {},
   "outputs": [],
   "source": [
    "def fetch_comments(submission_id):\n",
    "    fields = [\"body\",\"id\",\"link_id\",\"parent_id\"]\n",
    "    allcomments = requests.get(\"https://api.pushshift.io/reddit/comment/search/?submission_id=\"+submission_id)\n",
    "    if not allcomments.status_code==200:\n",
    "        print('Unable to perform request with status code: ' + str(allcomments.status_code))\n",
    "        return pd.DataFrame(columns=fields)\n",
    "    else:\n",
    "        comment_ids = getComment_id(allcomments)\n",
    "        filtered_comments = requests.get(\"https://api.pushshift.io/reddit/comment/search?ids=\"+comment_ids+\"&fields=body,id,link_id,parent_id\"+\"&size=\"+str(min(len(comment_ids),50)))\n",
    "        #print(\"https://api.pushshift.io/reddit/comment/search?ids=\"+comment_ids+\"&fields=body,id,link_id,parent_id\")\n",
    "        if not filtered_comments.status_code==200:\n",
    "            print('Unable to perform request with status code: ' + str(filtered_comments.status_code))\n",
    "            return pd.DataFrame(columns=fields)\n",
    "        else: \n",
    "            return pd.DataFrame(json.loads(filtered_comments.text)[\"data\"])\n",
    "\n",
    "def getComment_id(result):\n",
    "    s=\"\"\n",
    "    for dicti in json.loads(result.text)[\"data\"]:\n",
    "        s+=dicti.get(\"id\")+\",\"\n",
    "    return s[:-1]"
   ]
  },
  {
   "cell_type": "code",
   "execution_count": 39,
   "metadata": {},
   "outputs": [],
   "source": [
    "def comments_toSeries(data):\n",
    "    return [fetch_comments(submission_id=data.iloc[i]['id']) for i in range(data.shape[0])]"
   ]
  },
  {
   "cell_type": "code",
   "execution_count": 49,
   "metadata": {},
   "outputs": [],
   "source": [
    "commentsDD = pd.read_csv(\"DDsubmissions.csv\")"
   ]
  },
  {
   "cell_type": "code",
   "execution_count": 50,
   "metadata": {},
   "outputs": [],
   "source": [
    "commentsYOLO = pd.read_csv(\"YOLOsubmissions.csv\")"
   ]
  },
  {
   "cell_type": "code",
   "execution_count": 51,
   "metadata": {},
   "outputs": [],
   "source": [
    "commentsDD.drop(commentsDD.columns[0], axis=1, inplace=True)\n",
    "commentsDD['date'] = pd.to_datetime(commentsDD['utc'], utc=True, unit='s')\n",
    "\n",
    "commentsYOLO.drop(commentsYOLO.columns[0], axis=1, inplace=True)\n",
    "commentsYOLO['date'] = pd.to_datetime(commentsYOLO['utc'], utc=True, unit='s')"
   ]
  },
  {
   "cell_type": "code",
   "execution_count": 52,
   "metadata": {},
   "outputs": [],
   "source": [
    "# We restrict the comments to the same timeline as before i.e. 10th till 28th Feb 2021. \n",
    "\n",
    "commentsDD = commentsDD[commentsDD[\"date\"]>=min(commentsDD[\"date\"])]\n",
    "commentsDD = commentsDD[commentsDD[\"date\"]<=min(commentsDD[\"date\"]) + datetime.timedelta(days=18)]\n",
    "\n",
    "commentsYOLO = commentsYOLO[commentsYOLO[\"date\"]>=min(commentsYOLO[\"date\"])]\n",
    "commentsYOLO = commentsYOLO[commentsYOLO[\"date\"]<=min(commentsYOLO[\"date\"]) + datetime.timedelta(days=18)]"
   ]
  },
  {
   "cell_type": "code",
   "execution_count": 53,
   "metadata": {},
   "outputs": [
    {
     "data": {
      "text/plain": [
       "((27840, 8), (27519, 8))"
      ]
     },
     "execution_count": 53,
     "metadata": {},
     "output_type": "execute_result"
    }
   ],
   "source": [
    "commentsDD.shape, commentsYOLO.shape"
   ]
  },
  {
   "cell_type": "code",
   "execution_count": 54,
   "metadata": {},
   "outputs": [],
   "source": [
    "commentsDD[\"Tokenized\"] = clean(commentsDD[\"body\"])\n",
    "commentsDD[\"Tokenized_joined\"] = commentsDD[\"Tokenized\"].apply(lambda x: ' '.join(x))"
   ]
  },
  {
   "cell_type": "code",
   "execution_count": 55,
   "metadata": {},
   "outputs": [],
   "source": [
    "commentsYOLO[\"Tokenized\"] = clean(commentsYOLO[\"body\"])\n",
    "commentsYOLO[\"Tokenized_joined\"] = commentsYOLO[\"Tokenized\"].apply(lambda x: ' '.join(x))"
   ]
  },
  {
   "cell_type": "code",
   "execution_count": 56,
   "metadata": {},
   "outputs": [],
   "source": [
    "commentsDD.to_csv(\"cleanedDDcomments.csv\")\n",
    "commentsYOLO.to_csv(\"cleanedYOLOcomments.csv\")"
   ]
  },
  {
   "cell_type": "code",
   "execution_count": 57,
   "metadata": {},
   "outputs": [
    {
     "data": {
      "text/html": [
       "<div>\n",
       "<style scoped>\n",
       "    .dataframe tbody tr th:only-of-type {\n",
       "        vertical-align: middle;\n",
       "    }\n",
       "\n",
       "    .dataframe tbody tr th {\n",
       "        vertical-align: top;\n",
       "    }\n",
       "\n",
       "    .dataframe thead th {\n",
       "        text-align: right;\n",
       "    }\n",
       "</style>\n",
       "<table border=\"1\" class=\"dataframe\">\n",
       "  <thead>\n",
       "    <tr style=\"text-align: right;\">\n",
       "      <th></th>\n",
       "      <th>sub_id</th>\n",
       "      <th>body</th>\n",
       "      <th>id</th>\n",
       "      <th>link_id</th>\n",
       "      <th>parent_id</th>\n",
       "      <th>subreddit</th>\n",
       "      <th>utc</th>\n",
       "      <th>date</th>\n",
       "      <th>Tokenized</th>\n",
       "      <th>Tokenized_joined</th>\n",
       "    </tr>\n",
       "  </thead>\n",
       "  <tbody>\n",
       "    <tr>\n",
       "      <td>0</td>\n",
       "      <td>ltzb4d</td>\n",
       "      <td>Another downside is that the stock plummets an...</td>\n",
       "      <td>gp3h2a6</td>\n",
       "      <td>t3_ltzb4d</td>\n",
       "      <td>t3_ltzb4d</td>\n",
       "      <td>wallstreetbets</td>\n",
       "      <td>1.614468e+09</td>\n",
       "      <td>2021-02-27 23:16:23+00:00</td>\n",
       "      <td>[another, downside, stock, plummets, youre, le...</td>\n",
       "      <td>another downside stock plummets youre left hol...</td>\n",
       "    </tr>\n",
       "    <tr>\n",
       "      <td>1</td>\n",
       "      <td>ltzb4d</td>\n",
       "      <td>Exactly what I've wanted to do but don't have ...</td>\n",
       "      <td>gp3dj89</td>\n",
       "      <td>t3_ltzb4d</td>\n",
       "      <td>t3_ltzb4d</td>\n",
       "      <td>wallstreetbets</td>\n",
       "      <td>1.614467e+09</td>\n",
       "      <td>2021-02-27 22:55:21+00:00</td>\n",
       "      <td>[exactly, ive, wanted, dont, bankroll, buy, 10...</td>\n",
       "      <td>exactly ive wanted dont bankroll buy 100 share...</td>\n",
       "    </tr>\n",
       "  </tbody>\n",
       "</table>\n",
       "</div>"
      ],
      "text/plain": [
       "   sub_id                                               body       id  \\\n",
       "0  ltzb4d  Another downside is that the stock plummets an...  gp3h2a6   \n",
       "1  ltzb4d  Exactly what I've wanted to do but don't have ...  gp3dj89   \n",
       "\n",
       "     link_id  parent_id       subreddit           utc  \\\n",
       "0  t3_ltzb4d  t3_ltzb4d  wallstreetbets  1.614468e+09   \n",
       "1  t3_ltzb4d  t3_ltzb4d  wallstreetbets  1.614467e+09   \n",
       "\n",
       "                       date  \\\n",
       "0 2021-02-27 23:16:23+00:00   \n",
       "1 2021-02-27 22:55:21+00:00   \n",
       "\n",
       "                                           Tokenized  \\\n",
       "0  [another, downside, stock, plummets, youre, le...   \n",
       "1  [exactly, ive, wanted, dont, bankroll, buy, 10...   \n",
       "\n",
       "                                    Tokenized_joined  \n",
       "0  another downside stock plummets youre left hol...  \n",
       "1  exactly ive wanted dont bankroll buy 100 share...  "
      ]
     },
     "execution_count": 57,
     "metadata": {},
     "output_type": "execute_result"
    }
   ],
   "source": [
    "commentsDD.head(2)"
   ]
  },
  {
   "cell_type": "code",
   "execution_count": 58,
   "metadata": {},
   "outputs": [
    {
     "data": {
      "text/html": [
       "<div>\n",
       "<style scoped>\n",
       "    .dataframe tbody tr th:only-of-type {\n",
       "        vertical-align: middle;\n",
       "    }\n",
       "\n",
       "    .dataframe tbody tr th {\n",
       "        vertical-align: top;\n",
       "    }\n",
       "\n",
       "    .dataframe thead th {\n",
       "        text-align: right;\n",
       "    }\n",
       "</style>\n",
       "<table border=\"1\" class=\"dataframe\">\n",
       "  <thead>\n",
       "    <tr style=\"text-align: right;\">\n",
       "      <th></th>\n",
       "      <th>sub_id</th>\n",
       "      <th>body</th>\n",
       "      <th>id</th>\n",
       "      <th>link_id</th>\n",
       "      <th>parent_id</th>\n",
       "      <th>subreddit</th>\n",
       "      <th>utc</th>\n",
       "      <th>date</th>\n",
       "      <th>Tokenized</th>\n",
       "      <th>Tokenized_joined</th>\n",
       "    </tr>\n",
       "  </thead>\n",
       "  <tbody>\n",
       "    <tr>\n",
       "      <td>0</td>\n",
       "      <td>ltzb06</td>\n",
       "      <td>Wtf is this shit normie. Why slow down a video...</td>\n",
       "      <td>gp3dfmy</td>\n",
       "      <td>t3_ltzb06</td>\n",
       "      <td>t3_ltzb06</td>\n",
       "      <td>wallstreetbets</td>\n",
       "      <td>1.614466e+09</td>\n",
       "      <td>2021-02-27 22:54:46+00:00</td>\n",
       "      <td>[wtf, shit, normie, slow, video, know, people,...</td>\n",
       "      <td>wtf shit normie slow video know people autism ...</td>\n",
       "    </tr>\n",
       "    <tr>\n",
       "      <td>1</td>\n",
       "      <td>ltzb06</td>\n",
       "      <td>🥶</td>\n",
       "      <td>gp3gdal</td>\n",
       "      <td>t3_ltzb06</td>\n",
       "      <td>t3_ltzb06</td>\n",
       "      <td>wallstreetbets</td>\n",
       "      <td>1.614468e+09</td>\n",
       "      <td>2021-02-27 23:11:46+00:00</td>\n",
       "      <td>[]</td>\n",
       "      <td></td>\n",
       "    </tr>\n",
       "  </tbody>\n",
       "</table>\n",
       "</div>"
      ],
      "text/plain": [
       "   sub_id                                               body       id  \\\n",
       "0  ltzb06  Wtf is this shit normie. Why slow down a video...  gp3dfmy   \n",
       "1  ltzb06                                                  🥶  gp3gdal   \n",
       "\n",
       "     link_id  parent_id       subreddit           utc  \\\n",
       "0  t3_ltzb06  t3_ltzb06  wallstreetbets  1.614466e+09   \n",
       "1  t3_ltzb06  t3_ltzb06  wallstreetbets  1.614468e+09   \n",
       "\n",
       "                       date  \\\n",
       "0 2021-02-27 22:54:46+00:00   \n",
       "1 2021-02-27 23:11:46+00:00   \n",
       "\n",
       "                                           Tokenized  \\\n",
       "0  [wtf, shit, normie, slow, video, know, people,...   \n",
       "1                                                 []   \n",
       "\n",
       "                                    Tokenized_joined  \n",
       "0  wtf shit normie slow video know people autism ...  \n",
       "1                                                     "
      ]
     },
     "execution_count": 58,
     "metadata": {},
     "output_type": "execute_result"
    }
   ],
   "source": [
    "commentsYOLO.head(2)"
   ]
  },
  {
   "cell_type": "code",
   "execution_count": 59,
   "metadata": {},
   "outputs": [],
   "source": [
    "def getSentiments(series):\n",
    "    sentiment_label=[]\n",
    "    for comment in series:\n",
    "        model = SentimentIntensityAnalyzer()\n",
    "        sentiment = model.polarity_scores(comment)\n",
    "        positive, neutral, negative = sentiment['pos'], sentiment['neu'], sentiment['neg']\n",
    "        \n",
    "        if comment==\"\":\n",
    "            sentiment_label.append(\"neutral \"+str(neutral))\n",
    "        else:\n",
    "            if max(positive,neutral,negative) == positive:\n",
    "                sentiment_label.append(\"positive \"+str(positive))\n",
    "            elif max(positive,neutral,negative) == negative:\n",
    "                sentiment_label.append(\"negative \"+str(negative))\n",
    "            else: \n",
    "                sentiment_label.append(\"neutral \"+str(neutral))\n",
    "        #print(comment,\" : \",sentiment_label)\n",
    "        #print(len(sentiment_label),\"/\",len(series))\n",
    "        \n",
    "    return sentiment_label"
   ]
  },
  {
   "cell_type": "code",
   "execution_count": 60,
   "metadata": {},
   "outputs": [],
   "source": [
    "def getTickerofthecomment(series):\n",
    "    tickerincomment = []\n",
    "    for comment in series:\n",
    "        #print(comment)\n",
    "        ticker_count = FreqDist()\n",
    "        for word in comment:\n",
    "            if word in tickers_dict.keys():\n",
    "                ticker_count[word] += 1\n",
    "        ticker_count = dict(ticker_count)\n",
    "        if len(ticker_count)==0:\n",
    "            tickerincomment.append(None)\n",
    "        elif len(ticker_count)==1:\n",
    "            tickerincomment.append(list(ticker_count.keys())[0])\n",
    "        else:\n",
    "            tickerincomment.append(max(ticker_count, key=ticker_count.get))\n",
    "        #print(len(tickerincomment),\"/\",len(series))\n",
    "    return tickerincomment"
   ]
  },
  {
   "cell_type": "code",
   "execution_count": 61,
   "metadata": {},
   "outputs": [],
   "source": [
    "commentsDD[\"comment_sentiment\"] = getSentiments(commentsDD[\"Tokenized_joined\"])"
   ]
  },
  {
   "cell_type": "code",
   "execution_count": 62,
   "metadata": {},
   "outputs": [],
   "source": [
    "commentsDD[\"comment_ticker\"] = getTickerofthecomment(commentsDD[\"Tokenized\"])"
   ]
  },
  {
   "cell_type": "code",
   "execution_count": 63,
   "metadata": {},
   "outputs": [],
   "source": [
    "commentsYOLO[\"comment_sentiment\"] = getSentiments(commentsYOLO[\"Tokenized_joined\"])"
   ]
  },
  {
   "cell_type": "code",
   "execution_count": 64,
   "metadata": {},
   "outputs": [],
   "source": [
    "commentsYOLO[\"comment_ticker\"] = getTickerofthecomment(commentsYOLO[\"Tokenized\"])"
   ]
  },
  {
   "cell_type": "code",
   "execution_count": 65,
   "metadata": {},
   "outputs": [],
   "source": [
    "commentsYOLO.to_csv(\"YOLOcomments_Sentiments_beforescore.csv\")\n",
    "commentsDD.to_csv(\"DDcomments_Sentiments_beforescore.csv\")"
   ]
  },
  {
   "cell_type": "code",
   "execution_count": 66,
   "metadata": {},
   "outputs": [],
   "source": [
    "#commentsYOLO = pd.read_csv(\"YOLOcomments_Sentiments_beforescore.csv\")\n",
    "#commentsDD = pd.read_csv(\"DDcomments_Sentiments_beforescore.csv\")"
   ]
  },
  {
   "cell_type": "code",
   "execution_count": 67,
   "metadata": {},
   "outputs": [],
   "source": [
    "#commentsYOLO.drop(commentsYOLO.columns[[0,13]], axis=1, inplace=True)\n",
    "#commentsDD.drop(commentsDD.columns[[0,13]], axis=1, inplace=True)"
   ]
  },
  {
   "cell_type": "code",
   "execution_count": 68,
   "metadata": {},
   "outputs": [],
   "source": [
    "commentsYOLO[['comment_sentiment','sentiment_score']] = commentsYOLO['comment_sentiment'].str.split(' ', expand=True)"
   ]
  },
  {
   "cell_type": "code",
   "execution_count": 69,
   "metadata": {},
   "outputs": [],
   "source": [
    "commentsDD[['comment_sentiment','sentiment_score']] = commentsDD['comment_sentiment'].str.split(' ', expand=True)"
   ]
  },
  {
   "cell_type": "code",
   "execution_count": 70,
   "metadata": {},
   "outputs": [
    {
     "data": {
      "text/html": [
       "<div>\n",
       "<style scoped>\n",
       "    .dataframe tbody tr th:only-of-type {\n",
       "        vertical-align: middle;\n",
       "    }\n",
       "\n",
       "    .dataframe tbody tr th {\n",
       "        vertical-align: top;\n",
       "    }\n",
       "\n",
       "    .dataframe thead th {\n",
       "        text-align: right;\n",
       "    }\n",
       "</style>\n",
       "<table border=\"1\" class=\"dataframe\">\n",
       "  <thead>\n",
       "    <tr style=\"text-align: right;\">\n",
       "      <th></th>\n",
       "      <th>body</th>\n",
       "      <th>Tokenized</th>\n",
       "      <th>comment_sentiment</th>\n",
       "      <th>comment_ticker</th>\n",
       "      <th>sentiment_score</th>\n",
       "    </tr>\n",
       "  </thead>\n",
       "  <tbody>\n",
       "    <tr>\n",
       "      <td>0</td>\n",
       "      <td>Another downside is that the stock plummets an...</td>\n",
       "      <td>[another, downside, stock, plummets, youre, le...</td>\n",
       "      <td>neutral</td>\n",
       "      <td>GME</td>\n",
       "      <td>0.807</td>\n",
       "    </tr>\n",
       "    <tr>\n",
       "      <td>1</td>\n",
       "      <td>Exactly what I've wanted to do but don't have ...</td>\n",
       "      <td>[exactly, ive, wanted, dont, bankroll, buy, 10...</td>\n",
       "      <td>neutral</td>\n",
       "      <td>None</td>\n",
       "      <td>0.635</td>\n",
       "    </tr>\n",
       "  </tbody>\n",
       "</table>\n",
       "</div>"
      ],
      "text/plain": [
       "                                                body  \\\n",
       "0  Another downside is that the stock plummets an...   \n",
       "1  Exactly what I've wanted to do but don't have ...   \n",
       "\n",
       "                                           Tokenized comment_sentiment  \\\n",
       "0  [another, downside, stock, plummets, youre, le...           neutral   \n",
       "1  [exactly, ive, wanted, dont, bankroll, buy, 10...           neutral   \n",
       "\n",
       "  comment_ticker sentiment_score  \n",
       "0            GME           0.807  \n",
       "1           None           0.635  "
      ]
     },
     "execution_count": 70,
     "metadata": {},
     "output_type": "execute_result"
    }
   ],
   "source": [
    "commentsDD[[\"body\",\"Tokenized\",\"comment_sentiment\", \"comment_ticker\", \"sentiment_score\"]].head(2)"
   ]
  },
  {
   "cell_type": "code",
   "execution_count": 71,
   "metadata": {},
   "outputs": [
    {
     "data": {
      "text/html": [
       "<div>\n",
       "<style scoped>\n",
       "    .dataframe tbody tr th:only-of-type {\n",
       "        vertical-align: middle;\n",
       "    }\n",
       "\n",
       "    .dataframe tbody tr th {\n",
       "        vertical-align: top;\n",
       "    }\n",
       "\n",
       "    .dataframe thead th {\n",
       "        text-align: right;\n",
       "    }\n",
       "</style>\n",
       "<table border=\"1\" class=\"dataframe\">\n",
       "  <thead>\n",
       "    <tr style=\"text-align: right;\">\n",
       "      <th></th>\n",
       "      <th>body</th>\n",
       "      <th>Tokenized</th>\n",
       "      <th>comment_sentiment</th>\n",
       "      <th>comment_ticker</th>\n",
       "      <th>sentiment_score</th>\n",
       "    </tr>\n",
       "  </thead>\n",
       "  <tbody>\n",
       "    <tr>\n",
       "      <td>27718</td>\n",
       "      <td>The YOLO flair exists for the highest stakes, ...</td>\n",
       "      <td>[flair, exists, highest, stakes, highest, risk...</td>\n",
       "      <td>neutral</td>\n",
       "      <td>None</td>\n",
       "      <td>0.606</td>\n",
       "    </tr>\n",
       "    <tr>\n",
       "      <td>27719</td>\n",
       "      <td>The YOLO flair exists for the highest stakes, ...</td>\n",
       "      <td>[flair, exists, highest, stakes, highest, risk...</td>\n",
       "      <td>neutral</td>\n",
       "      <td>None</td>\n",
       "      <td>0.606</td>\n",
       "    </tr>\n",
       "  </tbody>\n",
       "</table>\n",
       "</div>"
      ],
      "text/plain": [
       "                                                    body  \\\n",
       "27718  The YOLO flair exists for the highest stakes, ...   \n",
       "27719  The YOLO flair exists for the highest stakes, ...   \n",
       "\n",
       "                                               Tokenized comment_sentiment  \\\n",
       "27718  [flair, exists, highest, stakes, highest, risk...           neutral   \n",
       "27719  [flair, exists, highest, stakes, highest, risk...           neutral   \n",
       "\n",
       "      comment_ticker sentiment_score  \n",
       "27718           None           0.606  \n",
       "27719           None           0.606  "
      ]
     },
     "execution_count": 71,
     "metadata": {},
     "output_type": "execute_result"
    }
   ],
   "source": [
    "commentsYOLO[[\"body\",\"Tokenized\",\"comment_sentiment\", \"comment_ticker\", \"sentiment_score\"]].tail(2)"
   ]
  },
  {
   "cell_type": "code",
   "execution_count": 72,
   "metadata": {},
   "outputs": [],
   "source": [
    "commentsYOLO.to_csv(\"YOLOcomments_Sentiments.csv\")\n",
    "commentsDD.to_csv(\"DDcomments_Sentiments.csv\")"
   ]
  },
  {
   "cell_type": "code",
   "execution_count": null,
   "metadata": {},
   "outputs": [],
   "source": [
    "#commentsYOLO = pd.read_csv(\"YOLOcomments_Sentiments.csv\")\n",
    "#commentsDD = pd.read_csv(\"DDcomments_Sentiments.csv\")"
   ]
  },
  {
   "cell_type": "code",
   "execution_count": 77,
   "metadata": {},
   "outputs": [],
   "source": [
    "commentsYOLO[\"sentiment_score\"] = commentsYOLO[\"sentiment_score\"].astype(float)\n",
    "commentsDD[\"sentiment_score\"] = commentsDD[\"sentiment_score\"].astype(float)"
   ]
  },
  {
   "cell_type": "code",
   "execution_count": 78,
   "metadata": {},
   "outputs": [],
   "source": [
    "def sentAnalysis(data, ddf):\n",
    "    sentiments_perticker = dict()\n",
    "    for popticker in ddf.head(10)[\"Ticker\"]:\n",
    "        pos = 0\n",
    "        neg = 0\n",
    "        neu = 0\n",
    "        df = data[data[\"comment_ticker\"]==popticker]\n",
    "        total = len(df)\n",
    "        for senti,score in zip(df[\"comment_sentiment\"],df[\"sentiment_score\"]):\n",
    "            if senti==\"positive\":\n",
    "                pos+=score\n",
    "            if senti==\"negative\":\n",
    "                neg+=score\n",
    "            if senti==\"neutral\":\n",
    "                neu+=score\n",
    "        sentiments_perticker[popticker] = [(pos/total),(neg/total),(neu/total)]\n",
    "    return sentiments_perticker"
   ]
  },
  {
   "cell_type": "code",
   "execution_count": 79,
   "metadata": {},
   "outputs": [],
   "source": [
    "DDsentiments_perticker = pd.DataFrame(sentAnalysis(commentsDD, DDdf), index=[\"Positive\", \"Negative\", \"Neutral\"]).transpose()"
   ]
  },
  {
   "cell_type": "code",
   "execution_count": 80,
   "metadata": {},
   "outputs": [],
   "source": [
    "YOLOsentiments_perticker = pd.DataFrame(sentAnalysis(commentsYOLO, YOLOdf), index=[\"Positive\", \"Negative\", \"Neutral\"]).transpose()"
   ]
  },
  {
   "cell_type": "code",
   "execution_count": 89,
   "metadata": {},
   "outputs": [],
   "source": [
    "YOLOsentiments_perticker.sort_values(by=[\"Positive\"], inplace=True, ascending=False)\n",
    "DDsentiments_perticker.sort_values(by=[\"Positive\"], inplace=True, ascending=False)"
   ]
  },
  {
   "cell_type": "code",
   "execution_count": 94,
   "metadata": {},
   "outputs": [],
   "source": [
    "YOLOsentiments_perticker = YOLOsentiments_perticker[YOLOsentiments_perticker['Positive'] != 0]\n",
    "DDsentiments_perticker = DDsentiments_perticker[DDsentiments_perticker['Positive'] != 0]"
   ]
  },
  {
   "cell_type": "code",
   "execution_count": 95,
   "metadata": {},
   "outputs": [
    {
     "data": {
      "image/png": "[encoded data removed]",
      "text/plain": [
       "<Figure size 432x576 with 2 Axes>"
      ]
     },
     "metadata": {
      "needs_background": "light"
     },
     "output_type": "display_data"
    }
   ],
   "source": [
    "fig, ax = plt.subplots(2, figsize=(6,8))\n",
    "sns.barplot(y=DDsentiments_perticker.index, x='Positive', data=DDsentiments_perticker, ax=ax[0])\n",
    "sns.barplot(y=YOLOsentiments_perticker.index, x='Positive', data=YOLOsentiments_perticker, ax=ax[1])\n",
    "\n",
    "plt.title('Popular Tickers vs Positive Sentiments Score')\n",
    "plt.xlabel('Positive Sentiment Score')\n",
    "plt.ylabel('Popular Stock Tickers')\n",
    "plt.tight_layout()\n",
    "plt.show()"
   ]
  },
  {
   "cell_type": "code",
   "execution_count": 98,
   "metadata": {},
   "outputs": [
    {
     "data": {
      "text/plain": [
       "['Aphria Inc. Common Shares',\n",
       " 'BlackBerry Limited Common Stock',\n",
       " 'Sundial Growers Inc. Common Shares',\n",
       " 'Rocket Companies Inc. Class A Common Stock',\n",
       " 'Eaton Vance Corporation Common Stock',\n",
       " 'AMC Entertainment Holdings Inc. Class A Common Stock',\n",
       " 'Palantir Technologies Inc. Class A Common Stock',\n",
       " 'GameStop Corporation Common Stock',\n",
       " 'Tilray Inc. Class 2 Common Stock']"
      ]
     },
     "execution_count": 98,
     "metadata": {},
     "output_type": "execute_result"
    }
   ],
   "source": [
    "[tickers_dict.get(ticker) for ticker in DDsentiments_perticker.index if ticker in tickers_dict.keys()]"
   ]
  },
  {
   "cell_type": "code",
   "execution_count": 97,
   "metadata": {},
   "outputs": [
    {
     "data": {
      "text/plain": [
       "['Churchill Capital Corp IV Class A Common Stock',\n",
       " 'Nokia Corporation Sponsored American Depositary Shares',\n",
       " 'SOS Limited American Depositary Shares',\n",
       " 'AMC Entertainment Holdings Inc. Class A Common Stock',\n",
       " 'Palantir Technologies Inc. Class A Common Stock',\n",
       " 'Sundial Growers Inc. Common Shares',\n",
       " 'GameStop Corporation Common Stock',\n",
       " 'Grocery Outlet Holding Corp. Common Stock']"
      ]
     },
     "execution_count": 97,
     "metadata": {},
     "output_type": "execute_result"
    }
   ],
   "source": [
    "[tickers_dict.get(ticker) for ticker in YOLOsentiments_perticker.index if ticker in tickers_dict.keys()]"
   ]
  },
  {
   "cell_type": "markdown",
   "metadata": {},
   "source": [
    "We found that comments were mostly neutral towards all tickers. If we look at the positive sentiment scores only, then we see that in DD posts, APHA and BB received the highest (which was not very high as it was neutral by majority) positive sentiments by the commenters. However, SNDL and AMC follow right after with PLTR and TLRY also making it to the top 10 atleast which would then be consistent with the graph before. \n",
    "For YOLO posts,  CCIV and NOK received the highest positive sentiments by the commenters and similar to DD posts, AMC, SNDL and PLTR follow right after. \n",
    "\n",
    "In both cases though, GME can be seen in the bottom tier and this can be explained by the dropping prices of GME in the timeframe under consideration for this task. But that was intentional as we wanted to find out the tickers that, as redditers will say, \"are going to the moon next\" and from analysis AMC, SNDL then PLTR and TLRY seem to be the ones. "
   ]
  },
  {
   "cell_type": "code",
   "execution_count": null,
   "metadata": {},
   "outputs": [],
   "source": []
  }
 ],
 "metadata": {
  "kernelspec": {
   "display_name": "Python 3",
   "language": "python",
   "name": "python3"
  },
  "language_info": {
   "codemirror_mode": {
    "name": "ipython",
    "version": 3
   },
   "file_extension": ".py",
   "mimetype": "text/x-python",
   "name": "python",
   "nbconvert_exporter": "python",
   "pygments_lexer": "ipython3",
   "version": "3.7.4"
  }
 },
 "nbformat": 4,
 "nbformat_minor": 2
}
