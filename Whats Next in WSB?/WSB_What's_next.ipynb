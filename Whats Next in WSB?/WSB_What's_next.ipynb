{
 "cells": [
  {
   "cell_type": "code",
   "execution_count": 1,
   "metadata": {},
   "outputs": [
    {
     "name": "stdout",
     "output_type": "stream",
     "text": [
      "Collecting psaw\n",
      "  Downloading psaw-0.1.0-py3-none-any.whl (15 kB)\n",
      "Requirement already satisfied: requests in /Users/sprihajoshi/opt/anaconda3/lib/python3.7/site-packages (from psaw) (2.22.0)\n",
      "Requirement already satisfied: Click in /Users/sprihajoshi/opt/anaconda3/lib/python3.7/site-packages (from psaw) (7.0)\n",
      "Requirement already satisfied: certifi>=2017.4.17 in /Users/sprihajoshi/opt/anaconda3/lib/python3.7/site-packages (from requests->psaw) (2019.9.11)\n",
      "Requirement already satisfied: idna<2.9,>=2.5 in /Users/sprihajoshi/opt/anaconda3/lib/python3.7/site-packages (from requests->psaw) (2.8)\n",
      "Requirement already satisfied: chardet<3.1.0,>=3.0.2 in /Users/sprihajoshi/opt/anaconda3/lib/python3.7/site-packages (from requests->psaw) (3.0.4)\n",
      "Requirement already satisfied: urllib3!=1.25.0,!=1.25.1,<1.26,>=1.21.1 in /Users/sprihajoshi/opt/anaconda3/lib/python3.7/site-packages (from requests->psaw) (1.24.2)\n",
      "Installing collected packages: psaw\n",
      "Successfully installed psaw-0.1.0\n"
     ]
    }
   ],
   "source": [
    "!pip install psaw"
   ]
  },
  {
   "cell_type": "code",
   "execution_count": 1,
   "metadata": {},
   "outputs": [],
   "source": [
    "import pandas as pd\n",
    "import datetime"
   ]
  },
  {
   "cell_type": "code",
   "execution_count": 2,
   "metadata": {},
   "outputs": [],
   "source": [
    "from psaw import PushshiftAPI\n",
    "import matplotlib.pyplot as plt \n",
    "import nltk\n",
    "from nltk.corpus import stopwords"
   ]
  },
  {
   "cell_type": "code",
   "execution_count": 3,
   "metadata": {},
   "outputs": [
    {
     "name": "stderr",
     "output_type": "stream",
     "text": [
      "[nltk_data] Downloading package vader_lexicon to\n",
      "[nltk_data]     /Users/sprihajoshi/nltk_data...\n",
      "[nltk_data]   Package vader_lexicon is already up-to-date!\n"
     ]
    }
   ],
   "source": [
    "from nltk import FreqDist \n",
    "import re\n",
    "import matplotlib.ticker as ticker\n",
    "import seaborn as sns\n",
    "import nltk; nltk.download('vader_lexicon')\n",
    "from nltk.sentiment.vader import SentimentIntensityAnalyzer"
   ]
  },
  {
   "cell_type": "code",
   "execution_count": 4,
   "metadata": {},
   "outputs": [],
   "source": [
    "import requests, matplotlib.pyplot as plt\n",
    "import pandas as pd\n",
    "import networkx as nx\n",
    "from random import randint\n",
    "import requests, json, time, datetime\n",
    "import os"
   ]
  },
  {
   "cell_type": "code",
   "execution_count": 5,
   "metadata": {},
   "outputs": [],
   "source": [
    "#api = PushshiftAPI()\n",
    "#start=int(datetime.datetime(2021, 2, 10).timestamp())\n",
    "#end=int(datetime.datetime(2021, 2, 28).timestamp())\n",
    "\n",
    "#api_request_generator = api.search_submissions(subreddit='wallstreetbets', after=start, before=end)"
   ]
  },
  {
   "cell_type": "code",
   "execution_count": 6,
   "metadata": {},
   "outputs": [],
   "source": [
    "#wsb_submissions = pd.DataFrame([submission.d_ for submission in api_request_generator])"
   ]
  },
  {
   "cell_type": "code",
   "execution_count": 7,
   "metadata": {},
   "outputs": [],
   "source": [
    "#wsb_submissions.to_csv(\"posts_retrieved_from_api.csv\")"
   ]
  },
  {
   "cell_type": "code",
   "execution_count": 8,
   "metadata": {},
   "outputs": [
    {
     "name": "stderr",
     "output_type": "stream",
     "text": [
      "/Users/sprihajoshi/opt/anaconda3/lib/python3.7/site-packages/IPython/core/interactiveshell.py:3058: DtypeWarning: Columns (4,68,80,81,82,83) have mixed types. Specify dtype option on import or set low_memory=False.\n",
      "  interactivity=interactivity, compiler=compiler, result=result)\n"
     ]
    }
   ],
   "source": [
    "wsb_submissions = pd.read_csv(\"posts_retrieved_from_api.csv\")"
   ]
  },
  {
   "cell_type": "code",
   "execution_count": 9,
   "metadata": {},
   "outputs": [],
   "source": [
    "wsb_submissions['date'] = pd.to_datetime(wsb_submissions['created_utc'], utc=True, unit='s')"
   ]
  },
  {
   "cell_type": "code",
   "execution_count": 10,
   "metadata": {},
   "outputs": [
    {
     "data": {
      "text/plain": [
       "array(['Meme', 'Discussion', 'Loss', 'News', 'YOLO', 'Chart', 'Gain',\n",
       "       'DD', nan, 'Earnings Thread', 'Shitpost', 'Weekend Discussion',\n",
       "       'Daily Discussion', 'Mods', 'OC'], dtype=object)"
      ]
     },
     "execution_count": 10,
     "metadata": {},
     "output_type": "execute_result"
    }
   ],
   "source": [
    "#Tags in WSB\n",
    "wsb_submissions[\"link_flair_text\"].unique()"
   ]
  },
  {
   "cell_type": "code",
   "execution_count": 11,
   "metadata": {},
   "outputs": [],
   "source": [
    "DDdata = wsb_submissions[wsb_submissions[\"link_flair_text\"] == \"DD\"][[\"id\", \"title\"]]\n",
    "YOLOdata = wsb_submissions[wsb_submissions[\"link_flair_text\"] == \"YOLO\"][[\"id\", \"title\"]]"
   ]
  },
  {
   "cell_type": "code",
   "execution_count": 12,
   "metadata": {},
   "outputs": [],
   "source": [
    "tickers = pd.read_csv(\"tickers.csv\")"
   ]
  },
  {
   "cell_type": "code",
   "execution_count": 13,
   "metadata": {},
   "outputs": [],
   "source": [
    "tickers_dict = dict()\n",
    "\n",
    "for _ in range(len(tickers)):\n",
    "    tickers_dict[tickers.iloc[_, 0]] = tickers.iloc[_, 1]"
   ]
  },
  {
   "cell_type": "code",
   "execution_count": 14,
   "metadata": {},
   "outputs": [],
   "source": [
    "def remove_stopword(listt):\n",
    "    return [word for word in listt if word.lower() not in stopwords.words('english')]\n",
    "\n",
    "def clean(series):\n",
    "    #Look for tickers and keep them caps, make the rest small\n",
    "    #remove stopwords\n",
    "    #remove punctuation marks\n",
    "    #remove DD, Yolo, YOLO \n",
    "    s=[]\n",
    "    \n",
    "    for index, title in series.iteritems():\n",
    "        \n",
    "        #Remove punctuations\n",
    "        title = re.sub(r'[^\\w\\s]', '', title) \n",
    "        \n",
    "        #Tokenize\n",
    "        title_into_words = title.split()\n",
    "        \n",
    "        #Remove stopwords\n",
    "        title_wo_sw = remove_stopword(title_into_words)\n",
    "        \n",
    "        if \"DD\" in title_wo_sw:\n",
    "            title_wo_sw.remove(\"DD\")\n",
    "        if \"YOLO\" in title_wo_sw:\n",
    "            title_wo_sw.remove(\"YOLO\")\n",
    "        if \"Yolo\" in title_wo_sw:\n",
    "            title_wo_sw.remove(\"Yolo\")\n",
    "        \n",
    "        new_list = []\n",
    "        \n",
    "        for word in title_wo_sw:\n",
    "            if word not in tickers_dict.keys():\n",
    "                new_list.append(word.lower()) \n",
    "            else:\n",
    "                new_list.append(word.upper())\n",
    "                    \n",
    "        #print(title_wo_sw)\n",
    "        s.append(new_list)\n",
    "        \n",
    "    return s"
   ]
  },
  {
   "cell_type": "code",
   "execution_count": 15,
   "metadata": {},
   "outputs": [],
   "source": [
    "DDdata[\"Tokenized\"] = clean(DDdata[\"title\"])\n",
    "YOLOdata[\"Tokenized\"] = clean(YOLOdata[\"title\"])"
   ]
  },
  {
   "cell_type": "code",
   "execution_count": 16,
   "metadata": {},
   "outputs": [
    {
     "data": {
      "text/html": [
       "<div>\n",
       "<style scoped>\n",
       "    .dataframe tbody tr th:only-of-type {\n",
       "        vertical-align: middle;\n",
       "    }\n",
       "\n",
       "    .dataframe tbody tr th {\n",
       "        vertical-align: top;\n",
       "    }\n",
       "\n",
       "    .dataframe thead th {\n",
       "        text-align: right;\n",
       "    }\n",
       "</style>\n",
       "<table border=\"1\" class=\"dataframe\">\n",
       "  <thead>\n",
       "    <tr style=\"text-align: right;\">\n",
       "      <th></th>\n",
       "      <th>title</th>\n",
       "      <th>Tokenized</th>\n",
       "    </tr>\n",
       "  </thead>\n",
       "  <tbody>\n",
       "    <tr>\n",
       "      <td>23</td>\n",
       "      <td>Using Covered Calls to Buy Volatile Stocks like GEE EM EE at a Steep Discount</td>\n",
       "      <td>[using, covered, calls, buy, volatile, stocks, like, gee, em, ee, steep, discount]</td>\n",
       "    </tr>\n",
       "    <tr>\n",
       "      <td>93</td>\n",
       "      <td>Meme stock price target</td>\n",
       "      <td>[meme, stock, price, target]</td>\n",
       "    </tr>\n",
       "    <tr>\n",
       "      <td>116</td>\n",
       "      <td>Cryptography DD</td>\n",
       "      <td>[cryptography]</td>\n",
       "    </tr>\n",
       "    <tr>\n",
       "      <td>150</td>\n",
       "      <td>This is...</td>\n",
       "      <td>[]</td>\n",
       "    </tr>\n",
       "    <tr>\n",
       "      <td>165</td>\n",
       "      <td>I see a lot of memes about AMC and other stocks, but there is only GME !</td>\n",
       "      <td>[see, lot, memes, AMC, stocks, GME]</td>\n",
       "    </tr>\n",
       "  </tbody>\n",
       "</table>\n",
       "</div>"
      ],
      "text/plain": [
       "                                                                             title  \\\n",
       "23   Using Covered Calls to Buy Volatile Stocks like GEE EM EE at a Steep Discount   \n",
       "93                                                         Meme stock price target   \n",
       "116                                                                Cryptography DD   \n",
       "150                                                                     This is...   \n",
       "165       I see a lot of memes about AMC and other stocks, but there is only GME !   \n",
       "\n",
       "                                                                              Tokenized  \n",
       "23   [using, covered, calls, buy, volatile, stocks, like, gee, em, ee, steep, discount]  \n",
       "93                                                         [meme, stock, price, target]  \n",
       "116                                                                      [cryptography]  \n",
       "150                                                                                  []  \n",
       "165                                                 [see, lot, memes, AMC, stocks, GME]  "
      ]
     },
     "execution_count": 16,
     "metadata": {},
     "output_type": "execute_result"
    }
   ],
   "source": [
    "DDdata[[\"title\",\"Tokenized\"]].head()"
   ]
  },
  {
   "cell_type": "code",
   "execution_count": 17,
   "metadata": {},
   "outputs": [
    {
     "data": {
      "text/html": [
       "<div>\n",
       "<style scoped>\n",
       "    .dataframe tbody tr th:only-of-type {\n",
       "        vertical-align: middle;\n",
       "    }\n",
       "\n",
       "    .dataframe tbody tr th {\n",
       "        vertical-align: top;\n",
       "    }\n",
       "\n",
       "    .dataframe thead th {\n",
       "        text-align: right;\n",
       "    }\n",
       "</style>\n",
       "<table border=\"1\" class=\"dataframe\">\n",
       "  <thead>\n",
       "    <tr style=\"text-align: right;\">\n",
       "      <th></th>\n",
       "      <th>title</th>\n",
       "      <th>Tokenized</th>\n",
       "    </tr>\n",
       "  </thead>\n",
       "  <tbody>\n",
       "    <tr>\n",
       "      <td>8</td>\n",
       "      <td>Hot wheels unleashed and the buying power of spoiled children.</td>\n",
       "      <td>[hot, wheels, unleashed, buying, power, spoiled, children]</td>\n",
       "    </tr>\n",
       "    <tr>\n",
       "      <td>16</td>\n",
       "      <td>Stimulus</td>\n",
       "      <td>[stimulus]</td>\n",
       "    </tr>\n",
       "    <tr>\n",
       "      <td>24</td>\n",
       "      <td>If I make this shot all your stocks go green</td>\n",
       "      <td>[make, shot, stocks, go, green]</td>\n",
       "    </tr>\n",
       "    <tr>\n",
       "      <td>25</td>\n",
       "      <td>GME Yolo ¯\\_(ツ)_/¯ it ain’t much, but it’s honest work 🚀🚀🙌💎🙌</td>\n",
       "      <td>[GME, _ツ_, aint, much, honest, work]</td>\n",
       "    </tr>\n",
       "    <tr>\n",
       "      <td>48</td>\n",
       "      <td>LWSB: Lucid Wall Street bets, all longs - Lucid Stock is heavily shorted by coordinated groups and manipulators. Why can’t we have a LWSB and defend. Are you IN? Credits to u/Madmax212121</td>\n",
       "      <td>[lwsb, lucid, wall, street, bets, longs, lucid, stock, heavily, shorted, coordinated, groups, manipulators, cant, lwsb, defend, credits, umadmax212121]</td>\n",
       "    </tr>\n",
       "  </tbody>\n",
       "</table>\n",
       "</div>"
      ],
      "text/plain": [
       "                                                                                                                                                                                          title  \\\n",
       "8                                                                                                                                Hot wheels unleashed and the buying power of spoiled children.   \n",
       "16                                                                                                                                                                                     Stimulus   \n",
       "24                                                                                                                                                 If I make this shot all your stocks go green   \n",
       "25                                                                                                                                 GME Yolo ¯\\_(ツ)_/¯ it ain’t much, but it’s honest work 🚀🚀🙌💎🙌   \n",
       "48  LWSB: Lucid Wall Street bets, all longs - Lucid Stock is heavily shorted by coordinated groups and manipulators. Why can’t we have a LWSB and defend. Are you IN? Credits to u/Madmax212121   \n",
       "\n",
       "                                                                                                                                                  Tokenized  \n",
       "8                                                                                                [hot, wheels, unleashed, buying, power, spoiled, children]  \n",
       "16                                                                                                                                               [stimulus]  \n",
       "24                                                                                                                          [make, shot, stocks, go, green]  \n",
       "25                                                                                                                     [GME, _ツ_, aint, much, honest, work]  \n",
       "48  [lwsb, lucid, wall, street, bets, longs, lucid, stock, heavily, shorted, coordinated, groups, manipulators, cant, lwsb, defend, credits, umadmax212121]  "
      ]
     },
     "execution_count": 17,
     "metadata": {},
     "output_type": "execute_result"
    }
   ],
   "source": [
    "YOLOdata[[\"title\",\"Tokenized\"]].head()"
   ]
  },
  {
   "cell_type": "code",
   "execution_count": 18,
   "metadata": {},
   "outputs": [],
   "source": [
    "def getCount(data):\n",
    "    ticker_count = FreqDist()\n",
    "    for listt in data.Tokenized:\n",
    "        for word in listt:\n",
    "            if word in tickers_dict.keys():\n",
    "                ticker_count[word] += 1\n",
    "    return ticker_count"
   ]
  },
  {
   "cell_type": "code",
   "execution_count": 19,
   "metadata": {},
   "outputs": [],
   "source": [
    "def todf(ticker_count):\n",
    "    df = pd.DataFrame.from_dict(ticker_count, orient='index')\n",
    "    df.columns = ['Frequency']\n",
    "    df.index.name = 'Ticker'\n",
    "    df.sort_values(by=\"Frequency\", ascending=False, inplace=True)\n",
    "    df.reset_index(inplace=True)\n",
    "    return df"
   ]
  },
  {
   "cell_type": "code",
   "execution_count": 20,
   "metadata": {},
   "outputs": [],
   "source": [
    "DDdata_count = getCount(DDdata)\n",
    "YOLOdata_count = getCount(YOLOdata)"
   ]
  },
  {
   "cell_type": "code",
   "execution_count": 21,
   "metadata": {},
   "outputs": [],
   "source": [
    "DDdf = todf(DDdata_count)\n",
    "YOLOdf = todf(YOLOdata_count)"
   ]
  },
  {
   "cell_type": "code",
   "execution_count": 22,
   "metadata": {},
   "outputs": [
    {
     "data": {
      "text/html": [
       "<div>\n",
       "<style scoped>\n",
       "    .dataframe tbody tr th:only-of-type {\n",
       "        vertical-align: middle;\n",
       "    }\n",
       "\n",
       "    .dataframe tbody tr th {\n",
       "        vertical-align: top;\n",
       "    }\n",
       "\n",
       "    .dataframe thead th {\n",
       "        text-align: right;\n",
       "    }\n",
       "</style>\n",
       "<table border=\"1\" class=\"dataframe\">\n",
       "  <thead>\n",
       "    <tr style=\"text-align: right;\">\n",
       "      <th></th>\n",
       "      <th>Ticker</th>\n",
       "      <th>Frequency</th>\n",
       "    </tr>\n",
       "  </thead>\n",
       "  <tbody>\n",
       "    <tr>\n",
       "      <td>0</td>\n",
       "      <td>GME</td>\n",
       "      <td>549</td>\n",
       "    </tr>\n",
       "    <tr>\n",
       "      <td>1</td>\n",
       "      <td>AMC</td>\n",
       "      <td>234</td>\n",
       "    </tr>\n",
       "    <tr>\n",
       "      <td>2</td>\n",
       "      <td>SNDL</td>\n",
       "      <td>168</td>\n",
       "    </tr>\n",
       "    <tr>\n",
       "      <td>3</td>\n",
       "      <td>SOS</td>\n",
       "      <td>99</td>\n",
       "    </tr>\n",
       "    <tr>\n",
       "      <td>4</td>\n",
       "      <td>PLTR</td>\n",
       "      <td>94</td>\n",
       "    </tr>\n",
       "    <tr>\n",
       "      <td>5</td>\n",
       "      <td>TLRY</td>\n",
       "      <td>81</td>\n",
       "    </tr>\n",
       "    <tr>\n",
       "      <td>6</td>\n",
       "      <td>RKT</td>\n",
       "      <td>58</td>\n",
       "    </tr>\n",
       "    <tr>\n",
       "      <td>7</td>\n",
       "      <td>EV</td>\n",
       "      <td>55</td>\n",
       "    </tr>\n",
       "    <tr>\n",
       "      <td>8</td>\n",
       "      <td>APHA</td>\n",
       "      <td>50</td>\n",
       "    </tr>\n",
       "    <tr>\n",
       "      <td>9</td>\n",
       "      <td>BB</td>\n",
       "      <td>46</td>\n",
       "    </tr>\n",
       "  </tbody>\n",
       "</table>\n",
       "</div>"
      ],
      "text/plain": [
       "  Ticker  Frequency\n",
       "0    GME        549\n",
       "1    AMC        234\n",
       "2   SNDL        168\n",
       "3    SOS         99\n",
       "4   PLTR         94\n",
       "5   TLRY         81\n",
       "6    RKT         58\n",
       "7     EV         55\n",
       "8   APHA         50\n",
       "9     BB         46"
      ]
     },
     "execution_count": 22,
     "metadata": {},
     "output_type": "execute_result"
    }
   ],
   "source": [
    "DDdf.head(10) "
   ]
  },
  {
   "cell_type": "code",
   "execution_count": 23,
   "metadata": {},
   "outputs": [
    {
     "data": {
      "text/plain": [
       "['GameStop Corporation Common Stock',\n",
       " 'AMC Entertainment Holdings Inc. Class A Common Stock',\n",
       " 'Sundial Growers Inc. Common Shares',\n",
       " 'SOS Limited American Depositary Shares',\n",
       " 'Palantir Technologies Inc. Class A Common Stock',\n",
       " 'Tilray Inc. Class 2 Common Stock',\n",
       " 'Rocket Companies Inc. Class A Common Stock',\n",
       " 'Eaton Vance Corporation Common Stock',\n",
       " 'Aphria Inc. Common Shares',\n",
       " 'BlackBerry Limited Common Stock']"
      ]
     },
     "execution_count": 23,
     "metadata": {},
     "output_type": "execute_result"
    }
   ],
   "source": [
    "[tickers_dict.get(ticker) for ticker in DDdf.Ticker.head(10) if ticker in tickers_dict.keys()]"
   ]
  },
  {
   "cell_type": "code",
   "execution_count": 24,
   "metadata": {},
   "outputs": [
    {
     "data": {
      "text/html": [
       "<div>\n",
       "<style scoped>\n",
       "    .dataframe tbody tr th:only-of-type {\n",
       "        vertical-align: middle;\n",
       "    }\n",
       "\n",
       "    .dataframe tbody tr th {\n",
       "        vertical-align: top;\n",
       "    }\n",
       "\n",
       "    .dataframe thead th {\n",
       "        text-align: right;\n",
       "    }\n",
       "</style>\n",
       "<table border=\"1\" class=\"dataframe\">\n",
       "  <thead>\n",
       "    <tr style=\"text-align: right;\">\n",
       "      <th></th>\n",
       "      <th>Ticker</th>\n",
       "      <th>Frequency</th>\n",
       "    </tr>\n",
       "  </thead>\n",
       "  <tbody>\n",
       "    <tr>\n",
       "      <td>0</td>\n",
       "      <td>GME</td>\n",
       "      <td>1564</td>\n",
       "    </tr>\n",
       "    <tr>\n",
       "      <td>1</td>\n",
       "      <td>AMC</td>\n",
       "      <td>1196</td>\n",
       "    </tr>\n",
       "    <tr>\n",
       "      <td>2</td>\n",
       "      <td>SNDL</td>\n",
       "      <td>544</td>\n",
       "    </tr>\n",
       "    <tr>\n",
       "      <td>3</td>\n",
       "      <td>PLTR</td>\n",
       "      <td>269</td>\n",
       "    </tr>\n",
       "    <tr>\n",
       "      <td>4</td>\n",
       "      <td>TLRY</td>\n",
       "      <td>120</td>\n",
       "    </tr>\n",
       "    <tr>\n",
       "      <td>5</td>\n",
       "      <td>CCIV</td>\n",
       "      <td>112</td>\n",
       "    </tr>\n",
       "    <tr>\n",
       "      <td>6</td>\n",
       "      <td>NOK</td>\n",
       "      <td>98</td>\n",
       "    </tr>\n",
       "    <tr>\n",
       "      <td>7</td>\n",
       "      <td>GO</td>\n",
       "      <td>97</td>\n",
       "    </tr>\n",
       "    <tr>\n",
       "      <td>8</td>\n",
       "      <td>SOS</td>\n",
       "      <td>90</td>\n",
       "    </tr>\n",
       "    <tr>\n",
       "      <td>9</td>\n",
       "      <td>CTRM</td>\n",
       "      <td>83</td>\n",
       "    </tr>\n",
       "  </tbody>\n",
       "</table>\n",
       "</div>"
      ],
      "text/plain": [
       "  Ticker  Frequency\n",
       "0    GME       1564\n",
       "1    AMC       1196\n",
       "2   SNDL        544\n",
       "3   PLTR        269\n",
       "4   TLRY        120\n",
       "5   CCIV        112\n",
       "6    NOK         98\n",
       "7     GO         97\n",
       "8    SOS         90\n",
       "9   CTRM         83"
      ]
     },
     "execution_count": 24,
     "metadata": {},
     "output_type": "execute_result"
    }
   ],
   "source": [
    "YOLOdf.head(10)"
   ]
  },
  {
   "cell_type": "code",
   "execution_count": 25,
   "metadata": {},
   "outputs": [
    {
     "data": {
      "text/plain": [
       "['GameStop Corporation Common Stock',\n",
       " 'AMC Entertainment Holdings Inc. Class A Common Stock',\n",
       " 'Sundial Growers Inc. Common Shares',\n",
       " 'Palantir Technologies Inc. Class A Common Stock',\n",
       " 'Tilray Inc. Class 2 Common Stock',\n",
       " 'Churchill Capital Corp IV Class A Common Stock',\n",
       " 'Nokia Corporation Sponsored American Depositary Shares',\n",
       " 'Grocery Outlet Holding Corp. Common Stock',\n",
       " 'SOS Limited American Depositary Shares',\n",
       " 'Castor Maritime Inc. Common Shares']"
      ]
     },
     "execution_count": 25,
     "metadata": {},
     "output_type": "execute_result"
    }
   ],
   "source": [
    "[tickers_dict.get(ticker) for ticker in YOLOdf.Ticker.head(10) if ticker in tickers_dict.keys()]"
   ]
  },
  {
   "cell_type": "code",
   "execution_count": 26,
   "metadata": {
    "scrolled": true
   },
   "outputs": [
    {
     "data": {
      "text/plain": [
       "<matplotlib.axes._subplots.AxesSubplot at 0x7fb8f7bdd450>"
      ]
     },
     "execution_count": 26,
     "metadata": {},
     "output_type": "execute_result"
    },
    {
     "data": {
      "image/png": "[encoded data removed]",
      "text/plain": [
       "<Figure size 864x1080 with 2 Axes>"
      ]
     },
     "metadata": {
      "needs_background": "light"
     },
     "output_type": "display_data"
    }
   ],
   "source": [
    "fig, ax = plt.subplots(2, figsize=(12,15))\n",
    "sns.barplot(y='Ticker', x='Frequency', data=DDdf.head(20), ax=ax[0])\n",
    "sns.barplot(y='Ticker', x='Frequency', data=YOLOdf.head(20), ax=ax[1])"
   ]
  },
  {
   "cell_type": "markdown",
   "metadata": {},
   "source": [
    "## Sentiment towards top 10 tickers"
   ]
  },
  {
   "cell_type": "code",
   "execution_count": null,
   "metadata": {},
   "outputs": [],
   "source": [
    "def fetch_comments(submission_id):\n",
    "    fields = [\"body\",\"id\",\"link_id\",\"parent_id\"]\n",
    "    allcomments = requests.get(\"https://api.pushshift.io/reddit/comment/search/?submission_id=\"+submission_id)\n",
    "    if not allcomments.status_code==200:\n",
    "        print('Unable to perform request with status code: ' + str(allcomments.status_code))\n",
    "        return pd.DataFrame(columns=fields)\n",
    "    else:\n",
    "        comment_ids = getComment_id(allcomments)\n",
    "        filtered_comments = requests.get(\"https://api.pushshift.io/reddit/comment/search?ids=\"+comment_ids+\"&fields=body,id,link_id,parent_id\"+\"&size=\"+str(min(len(comment_ids),50)))\n",
    "        #print(\"https://api.pushshift.io/reddit/comment/search?ids=\"+comment_ids+\"&fields=body,id,link_id,parent_id\")\n",
    "        if not filtered_comments.status_code==200:\n",
    "            print('Unable to perform request with status code: ' + str(filtered_comments.status_code))\n",
    "            return pd.DataFrame(columns=fields)\n",
    "        else: \n",
    "            return pd.DataFrame(json.loads(filtered_comments.text)[\"data\"])\n",
    "\n",
    "def getComment_id(result):\n",
    "    s=\"\"\n",
    "    for dicti in json.loads(result.text)[\"data\"]:\n",
    "        s+=dicti.get(\"id\")+\",\"\n",
    "    return s[:-1]"
   ]
  },
  {
   "cell_type": "code",
   "execution_count": 47,
   "metadata": {},
   "outputs": [],
   "source": [
    "def comments_toSeries(data):\n",
    "    return [fetch_comments(submission_id=data.iloc[i]['id']) for i in range(data.shape[0])]"
   ]
  },
  {
   "cell_type": "code",
   "execution_count": 216,
   "metadata": {},
   "outputs": [],
   "source": [
    "commentsDD = pd.read_csv(\"DDsubmissions.csv\")"
   ]
  },
  {
   "cell_type": "code",
   "execution_count": 217,
   "metadata": {},
   "outputs": [],
   "source": [
    "commentsYOLO = pd.read_csv(\"YOLOsubmissions.csv\")"
   ]
  },
  {
   "cell_type": "code",
   "execution_count": 218,
   "metadata": {},
   "outputs": [],
   "source": [
    "commentsDD.drop(commentsDD.columns[0], axis=1, inplace=True)\n",
    "commentsDD['date'] = pd.to_datetime(commentsDD['utc'], utc=True, unit='s')\n",
    "\n",
    "commentsYOLO.drop(commentsYOLO.columns[0], axis=1, inplace=True)\n",
    "commentsYOLO['date'] = pd.to_datetime(commentsYOLO['utc'], utc=True, unit='s')"
   ]
  },
  {
   "cell_type": "code",
   "execution_count": 219,
   "metadata": {},
   "outputs": [],
   "source": [
    "commentsDD = commentsDD[commentsDD[\"date\"]>=min(commentsDD[\"date\"])]\n",
    "commentsDD = commentsDD[commentsDD[\"date\"]<=min(commentsDD[\"date\"]) + datetime.timedelta(days=18)]\n",
    "\n",
    "commentsYOLO = commentsYOLO[commentsYOLO[\"date\"]>=min(commentsYOLO[\"date\"])]\n",
    "commentsYOLO = commentsYOLO[commentsYOLO[\"date\"]<=min(commentsYOLO[\"date\"]) + datetime.timedelta(days=18)]"
   ]
  },
  {
   "cell_type": "code",
   "execution_count": 221,
   "metadata": {},
   "outputs": [
    {
     "data": {
      "text/plain": [
       "((27840, 8), (27519, 8))"
      ]
     },
     "execution_count": 221,
     "metadata": {},
     "output_type": "execute_result"
    }
   ],
   "source": [
    "commentsDD.shape, commentsYOLO.shape"
   ]
  },
  {
   "cell_type": "code",
   "execution_count": 222,
   "metadata": {},
   "outputs": [],
   "source": [
    "commentsDD[\"Tokenized\"] = clean(commentsDD[\"body\"])\n",
    "commentsDD[\"Tokenized_joined\"] = commentsDD[\"Tokenized\"].apply(lambda x: ' '.join(x))"
   ]
  },
  {
   "cell_type": "code",
   "execution_count": 223,
   "metadata": {},
   "outputs": [],
   "source": [
    "commentsYOLO[\"Tokenized\"] = clean(commentsYOLO[\"body\"])\n",
    "commentsYOLO[\"Tokenized_joined\"] = commentsYOLO[\"Tokenized\"].apply(lambda x: ' '.join(x))"
   ]
  },
  {
   "cell_type": "code",
   "execution_count": 228,
   "metadata": {},
   "outputs": [],
   "source": [
    "commentsDD.to_csv(\"cleanedDDcomments.csv\")\n",
    "commentsYOLO.to_csv(\"cleanedYOLOcomments.csv\")"
   ]
  },
  {
   "cell_type": "code",
   "execution_count": 224,
   "metadata": {},
   "outputs": [
    {
     "data": {
      "text/html": [
       "<div>\n",
       "<style scoped>\n",
       "    .dataframe tbody tr th:only-of-type {\n",
       "        vertical-align: middle;\n",
       "    }\n",
       "\n",
       "    .dataframe tbody tr th {\n",
       "        vertical-align: top;\n",
       "    }\n",
       "\n",
       "    .dataframe thead th {\n",
       "        text-align: right;\n",
       "    }\n",
       "</style>\n",
       "<table border=\"1\" class=\"dataframe\">\n",
       "  <thead>\n",
       "    <tr style=\"text-align: right;\">\n",
       "      <th></th>\n",
       "      <th>sub_id</th>\n",
       "      <th>body</th>\n",
       "      <th>id</th>\n",
       "      <th>link_id</th>\n",
       "      <th>parent_id</th>\n",
       "      <th>subreddit</th>\n",
       "      <th>utc</th>\n",
       "      <th>date</th>\n",
       "      <th>Tokenized</th>\n",
       "      <th>Tokenized_joined</th>\n",
       "    </tr>\n",
       "  </thead>\n",
       "  <tbody>\n",
       "    <tr>\n",
       "      <td>0</td>\n",
       "      <td>ltzb4d</td>\n",
       "      <td>Another downside is that the stock plummets and you’re left holding stock that has lost more than your premium was. Which is likely and why the premiums are so high due to that volatility.\\n\\nI hold 17 GME @320 btw.</td>\n",
       "      <td>gp3h2a6</td>\n",
       "      <td>t3_ltzb4d</td>\n",
       "      <td>t3_ltzb4d</td>\n",
       "      <td>wallstreetbets</td>\n",
       "      <td>1.614468e+09</td>\n",
       "      <td>2021-02-27 23:16:23+00:00</td>\n",
       "      <td>[another, downside, stock, plummets, youre, left, holding, stock, lost, premium, likely, premiums, high, due, volatility, hold, 17, GME, 320, btw]</td>\n",
       "      <td>another downside stock plummets youre left holding stock lost premium likely premiums high due volatility hold 17 GME 320 btw</td>\n",
       "    </tr>\n",
       "    <tr>\n",
       "      <td>1</td>\n",
       "      <td>ltzb4d</td>\n",
       "      <td>Exactly what I've wanted to do but don't have the bankroll to buy 100 shares at these prices. I agree with everything you said, weirdly non-retarded for this sub.</td>\n",
       "      <td>gp3dj89</td>\n",
       "      <td>t3_ltzb4d</td>\n",
       "      <td>t3_ltzb4d</td>\n",
       "      <td>wallstreetbets</td>\n",
       "      <td>1.614467e+09</td>\n",
       "      <td>2021-02-27 22:55:21+00:00</td>\n",
       "      <td>[exactly, ive, wanted, dont, bankroll, buy, 100, shares, prices, agree, everything, said, weirdly, nonretarded, sub]</td>\n",
       "      <td>exactly ive wanted dont bankroll buy 100 shares prices agree everything said weirdly nonretarded sub</td>\n",
       "    </tr>\n",
       "  </tbody>\n",
       "</table>\n",
       "</div>"
      ],
      "text/plain": [
       "   sub_id  \\\n",
       "0  ltzb4d   \n",
       "1  ltzb4d   \n",
       "\n",
       "                                                                                                                                                                                                                      body  \\\n",
       "0  Another downside is that the stock plummets and you’re left holding stock that has lost more than your premium was. Which is likely and why the premiums are so high due to that volatility.\\n\\nI hold 17 GME @320 btw.   \n",
       "1                                                       Exactly what I've wanted to do but don't have the bankroll to buy 100 shares at these prices. I agree with everything you said, weirdly non-retarded for this sub.   \n",
       "\n",
       "        id    link_id  parent_id       subreddit           utc  \\\n",
       "0  gp3h2a6  t3_ltzb4d  t3_ltzb4d  wallstreetbets  1.614468e+09   \n",
       "1  gp3dj89  t3_ltzb4d  t3_ltzb4d  wallstreetbets  1.614467e+09   \n",
       "\n",
       "                       date  \\\n",
       "0 2021-02-27 23:16:23+00:00   \n",
       "1 2021-02-27 22:55:21+00:00   \n",
       "\n",
       "                                                                                                                                            Tokenized  \\\n",
       "0  [another, downside, stock, plummets, youre, left, holding, stock, lost, premium, likely, premiums, high, due, volatility, hold, 17, GME, 320, btw]   \n",
       "1                                [exactly, ive, wanted, dont, bankroll, buy, 100, shares, prices, agree, everything, said, weirdly, nonretarded, sub]   \n",
       "\n",
       "                                                                                                                Tokenized_joined  \n",
       "0  another downside stock plummets youre left holding stock lost premium likely premiums high due volatility hold 17 GME 320 btw  \n",
       "1                           exactly ive wanted dont bankroll buy 100 shares prices agree everything said weirdly nonretarded sub  "
      ]
     },
     "execution_count": 224,
     "metadata": {},
     "output_type": "execute_result"
    }
   ],
   "source": [
    "commentsDD.head(2)"
   ]
  },
  {
   "cell_type": "code",
   "execution_count": 225,
   "metadata": {},
   "outputs": [
    {
     "data": {
      "text/html": [
       "<div>\n",
       "<style scoped>\n",
       "    .dataframe tbody tr th:only-of-type {\n",
       "        vertical-align: middle;\n",
       "    }\n",
       "\n",
       "    .dataframe tbody tr th {\n",
       "        vertical-align: top;\n",
       "    }\n",
       "\n",
       "    .dataframe thead th {\n",
       "        text-align: right;\n",
       "    }\n",
       "</style>\n",
       "<table border=\"1\" class=\"dataframe\">\n",
       "  <thead>\n",
       "    <tr style=\"text-align: right;\">\n",
       "      <th></th>\n",
       "      <th>sub_id</th>\n",
       "      <th>body</th>\n",
       "      <th>id</th>\n",
       "      <th>link_id</th>\n",
       "      <th>parent_id</th>\n",
       "      <th>subreddit</th>\n",
       "      <th>utc</th>\n",
       "      <th>date</th>\n",
       "      <th>Tokenized</th>\n",
       "      <th>Tokenized_joined</th>\n",
       "    </tr>\n",
       "  </thead>\n",
       "  <tbody>\n",
       "    <tr>\n",
       "      <td>0</td>\n",
       "      <td>ltzb06</td>\n",
       "      <td>Wtf is this shit normie. Why slow down a video?  You do know people here have autism and adhd? Speed this up.get to your point.</td>\n",
       "      <td>gp3dfmy</td>\n",
       "      <td>t3_ltzb06</td>\n",
       "      <td>t3_ltzb06</td>\n",
       "      <td>wallstreetbets</td>\n",
       "      <td>1.614466e+09</td>\n",
       "      <td>2021-02-27 22:54:46+00:00</td>\n",
       "      <td>[wtf, shit, normie, slow, video, know, people, autism, adhd, speed, upget, point]</td>\n",
       "      <td>wtf shit normie slow video know people autism adhd speed upget point</td>\n",
       "    </tr>\n",
       "    <tr>\n",
       "      <td>1</td>\n",
       "      <td>ltzb06</td>\n",
       "      <td>🥶</td>\n",
       "      <td>gp3gdal</td>\n",
       "      <td>t3_ltzb06</td>\n",
       "      <td>t3_ltzb06</td>\n",
       "      <td>wallstreetbets</td>\n",
       "      <td>1.614468e+09</td>\n",
       "      <td>2021-02-27 23:11:46+00:00</td>\n",
       "      <td>[]</td>\n",
       "      <td></td>\n",
       "    </tr>\n",
       "  </tbody>\n",
       "</table>\n",
       "</div>"
      ],
      "text/plain": [
       "   sub_id  \\\n",
       "0  ltzb06   \n",
       "1  ltzb06   \n",
       "\n",
       "                                                                                                                              body  \\\n",
       "0  Wtf is this shit normie. Why slow down a video?  You do know people here have autism and adhd? Speed this up.get to your point.   \n",
       "1                                                                                                                                🥶   \n",
       "\n",
       "        id    link_id  parent_id       subreddit           utc  \\\n",
       "0  gp3dfmy  t3_ltzb06  t3_ltzb06  wallstreetbets  1.614466e+09   \n",
       "1  gp3gdal  t3_ltzb06  t3_ltzb06  wallstreetbets  1.614468e+09   \n",
       "\n",
       "                       date  \\\n",
       "0 2021-02-27 22:54:46+00:00   \n",
       "1 2021-02-27 23:11:46+00:00   \n",
       "\n",
       "                                                                           Tokenized  \\\n",
       "0  [wtf, shit, normie, slow, video, know, people, autism, adhd, speed, upget, point]   \n",
       "1                                                                                 []   \n",
       "\n",
       "                                                       Tokenized_joined  \n",
       "0  wtf shit normie slow video know people autism adhd speed upget point  \n",
       "1                                                                        "
      ]
     },
     "execution_count": 225,
     "metadata": {},
     "output_type": "execute_result"
    }
   ],
   "source": [
    "commentsYOLO.head(2)"
   ]
  },
  {
   "cell_type": "code",
   "execution_count": 226,
   "metadata": {},
   "outputs": [],
   "source": [
    "def getSentiments(series):\n",
    "    sentiment_label=[]\n",
    "    for comment in series:\n",
    "        model = SentimentIntensityAnalyzer()\n",
    "        sentiment = model.polarity_scores(comment)\n",
    "        positive, neutral, negative = sentiment['pos'], sentiment['neu'], sentiment['neg']\n",
    "        \n",
    "        if comment==\"\":\n",
    "            sentiment_label.append(\"neutral \"+str(neutral))\n",
    "        else:\n",
    "            if max(positive,neutral,negative) == positive:\n",
    "                sentiment_label.append(\"positive \"+str(positive))\n",
    "            elif max(positive,neutral,negative) == negative:\n",
    "                sentiment_label.append(\"negative \"+str(negative))\n",
    "            else: \n",
    "                sentiment_label.append(\"neutral \"+str(neutral))\n",
    "        #print(comment,\" : \",sentiment_label)\n",
    "        #print(len(sentiment_label),\"/\",len(series))\n",
    "        \n",
    "    return sentiment_label"
   ]
  },
  {
   "cell_type": "code",
   "execution_count": 248,
   "metadata": {},
   "outputs": [],
   "source": [
    "def getTickerofthecomment(series):\n",
    "    tickerincomment = []\n",
    "    for comment in series:\n",
    "        #print(comment)\n",
    "        ticker_count = FreqDist()\n",
    "        for word in comment:\n",
    "            if word in tickers_dict.keys():\n",
    "                ticker_count[word] += 1\n",
    "        ticker_count = dict(ticker_count)\n",
    "        if len(ticker_count)==0:\n",
    "            tickerincomment.append(None)\n",
    "        elif len(ticker_count)==1:\n",
    "            tickerincomment.append(list(ticker_count.keys())[0])\n",
    "        else:\n",
    "            tickerincomment.append(max(ticker_count, key=ticker_count.get))\n",
    "        #print(len(tickerincomment),\"/\",len(series))\n",
    "    return tickerincomment"
   ]
  },
  {
   "cell_type": "code",
   "execution_count": 272,
   "metadata": {},
   "outputs": [],
   "source": [
    "commentsDD[\"comment_sentiment\"] = getSentiments(commentsDD[\"Tokenized_joined\"])"
   ]
  },
  {
   "cell_type": "code",
   "execution_count": 249,
   "metadata": {},
   "outputs": [],
   "source": [
    "commentsDD[\"comment_ticker\"] = getTickerofthecomment(commentsDD[\"Tokenized\"])"
   ]
  },
  {
   "cell_type": "code",
   "execution_count": 273,
   "metadata": {},
   "outputs": [],
   "source": [
    "commentsYOLO[\"comment_sentiment\"] = getSentiments(commentsYOLO[\"Tokenized_joined\"])"
   ]
  },
  {
   "cell_type": "code",
   "execution_count": 250,
   "metadata": {},
   "outputs": [],
   "source": [
    "commentsYOLO[\"comment_ticker\"] = getTickerofthecomment(commentsYOLO[\"Tokenized\"])"
   ]
  },
  {
   "cell_type": "code",
   "execution_count": 303,
   "metadata": {},
   "outputs": [],
   "source": [
    "commentsYOLO = pd.read_csv(\"YOLOcomments_Sentiments_beforescore.csv\")\n",
    "commentsDD = pd.read_csv(\"DDcomments_Sentiments_beforescore.csv\")"
   ]
  },
  {
   "cell_type": "code",
   "execution_count": 307,
   "metadata": {},
   "outputs": [],
   "source": [
    "commentsDD.drop(commentsDD.columns[[0,13]], axis=1, inplace=True)"
   ]
  },
  {
   "cell_type": "code",
   "execution_count": 305,
   "metadata": {},
   "outputs": [],
   "source": [
    "commentsYOLO[['comment_sentiment','sentiment_score']] = commentsYOLO['comment_sentiment'].str.split(' ', expand=True)"
   ]
  },
  {
   "cell_type": "code",
   "execution_count": 308,
   "metadata": {},
   "outputs": [],
   "source": [
    "commentsDD[['comment_sentiment','sentiment_score']] = commentsDD['comment_sentiment'].str.split(' ', expand=True)"
   ]
  },
  {
   "cell_type": "code",
   "execution_count": 309,
   "metadata": {},
   "outputs": [
    {
     "data": {
      "text/html": [
       "<div>\n",
       "<style scoped>\n",
       "    .dataframe tbody tr th:only-of-type {\n",
       "        vertical-align: middle;\n",
       "    }\n",
       "\n",
       "    .dataframe tbody tr th {\n",
       "        vertical-align: top;\n",
       "    }\n",
       "\n",
       "    .dataframe thead th {\n",
       "        text-align: right;\n",
       "    }\n",
       "</style>\n",
       "<table border=\"1\" class=\"dataframe\">\n",
       "  <thead>\n",
       "    <tr style=\"text-align: right;\">\n",
       "      <th></th>\n",
       "      <th>body</th>\n",
       "      <th>Tokenized</th>\n",
       "      <th>comment_sentiment</th>\n",
       "      <th>comment_ticker</th>\n",
       "      <th>sentiment_score</th>\n",
       "    </tr>\n",
       "  </thead>\n",
       "  <tbody>\n",
       "    <tr>\n",
       "      <td>0</td>\n",
       "      <td>Another downside is that the stock plummets and you’re left holding stock that has lost more than your premium was. Which is likely and why the premiums are so high due to that volatility.\\n\\nI hold 17 GME @320 btw.</td>\n",
       "      <td>['another', 'downside', 'stock', 'plummets', 'youre', 'left', 'holding', 'stock', 'lost', 'premium', 'likely', 'premiums', 'high', 'due', 'volatility', 'hold', '17', 'GME', '320', 'btw']</td>\n",
       "      <td>neutral</td>\n",
       "      <td>GME</td>\n",
       "      <td>0.807</td>\n",
       "    </tr>\n",
       "    <tr>\n",
       "      <td>1</td>\n",
       "      <td>Exactly what I've wanted to do but don't have the bankroll to buy 100 shares at these prices. I agree with everything you said, weirdly non-retarded for this sub.</td>\n",
       "      <td>['exactly', 'ive', 'wanted', 'dont', 'bankroll', 'buy', '100', 'shares', 'prices', 'agree', 'everything', 'said', 'weirdly', 'nonretarded', 'sub']</td>\n",
       "      <td>neutral</td>\n",
       "      <td>NaN</td>\n",
       "      <td>0.635</td>\n",
       "    </tr>\n",
       "  </tbody>\n",
       "</table>\n",
       "</div>"
      ],
      "text/plain": [
       "                                                                                                                                                                                                                      body  \\\n",
       "0  Another downside is that the stock plummets and you’re left holding stock that has lost more than your premium was. Which is likely and why the premiums are so high due to that volatility.\\n\\nI hold 17 GME @320 btw.   \n",
       "1                                                       Exactly what I've wanted to do but don't have the bankroll to buy 100 shares at these prices. I agree with everything you said, weirdly non-retarded for this sub.   \n",
       "\n",
       "                                                                                                                                                                                    Tokenized  \\\n",
       "0  ['another', 'downside', 'stock', 'plummets', 'youre', 'left', 'holding', 'stock', 'lost', 'premium', 'likely', 'premiums', 'high', 'due', 'volatility', 'hold', '17', 'GME', '320', 'btw']   \n",
       "1                                          ['exactly', 'ive', 'wanted', 'dont', 'bankroll', 'buy', '100', 'shares', 'prices', 'agree', 'everything', 'said', 'weirdly', 'nonretarded', 'sub']   \n",
       "\n",
       "  comment_sentiment comment_ticker sentiment_score  \n",
       "0           neutral            GME           0.807  \n",
       "1           neutral            NaN           0.635  "
      ]
     },
     "execution_count": 309,
     "metadata": {},
     "output_type": "execute_result"
    }
   ],
   "source": [
    "commentsDD[[\"body\",\"Tokenized\",\"comment_sentiment\", \"comment_ticker\", \"sentiment_score\"]].head(2)"
   ]
  },
  {
   "cell_type": "code",
   "execution_count": 306,
   "metadata": {},
   "outputs": [
    {
     "data": {
      "text/html": [
       "<div>\n",
       "<style scoped>\n",
       "    .dataframe tbody tr th:only-of-type {\n",
       "        vertical-align: middle;\n",
       "    }\n",
       "\n",
       "    .dataframe tbody tr th {\n",
       "        vertical-align: top;\n",
       "    }\n",
       "\n",
       "    .dataframe thead th {\n",
       "        text-align: right;\n",
       "    }\n",
       "</style>\n",
       "<table border=\"1\" class=\"dataframe\">\n",
       "  <thead>\n",
       "    <tr style=\"text-align: right;\">\n",
       "      <th></th>\n",
       "      <th>body</th>\n",
       "      <th>Tokenized</th>\n",
       "      <th>comment_sentiment</th>\n",
       "      <th>comment_ticker</th>\n",
       "      <th>sentiment_score</th>\n",
       "    </tr>\n",
       "  </thead>\n",
       "  <tbody>\n",
       "    <tr>\n",
       "      <td>27517</td>\n",
       "      <td>The YOLO flair exists for the highest stakes, highest risk, plays. We're talking $25K+ on OTM options that expire this week. Your post will be removed and you may be banned if you post some low energy plays.\\n\\n*I am a bot, and this action was performed automatically. Please [contact the moderators of this subreddit](/message/compose/?to=/r/wallstreetbets) if you have any questions or concerns.*</td>\n",
       "      <td>['flair', 'exists', 'highest', 'stakes', 'highest', 'risk', 'plays', 'talking', '25k', 'otm', 'options', 'expire', 'week', 'post', 'removed', 'may', 'banned', 'post', 'low', 'energy', 'plays', 'bot', 'action', 'performed', 'automatically', 'please', 'contact', 'moderators', 'subredditmessagecomposetorwallstreetbets', 'questions', 'concerns']</td>\n",
       "      <td>neutral</td>\n",
       "      <td>NaN</td>\n",
       "      <td>0.606</td>\n",
       "    </tr>\n",
       "    <tr>\n",
       "      <td>27518</td>\n",
       "      <td>The YOLO flair exists for the highest stakes, highest risk, plays. We're talking $25K+ on OTM options that expire this week. Your post will be removed and you may be banned if you post some low energy plays.\\n\\n*I am a bot, and this action was performed automatically. Please [contact the moderators of this subreddit](/message/compose/?to=/r/wallstreetbets) if you have any questions or concerns.*</td>\n",
       "      <td>['flair', 'exists', 'highest', 'stakes', 'highest', 'risk', 'plays', 'talking', '25k', 'otm', 'options', 'expire', 'week', 'post', 'removed', 'may', 'banned', 'post', 'low', 'energy', 'plays', 'bot', 'action', 'performed', 'automatically', 'please', 'contact', 'moderators', 'subredditmessagecomposetorwallstreetbets', 'questions', 'concerns']</td>\n",
       "      <td>neutral</td>\n",
       "      <td>NaN</td>\n",
       "      <td>0.606</td>\n",
       "    </tr>\n",
       "  </tbody>\n",
       "</table>\n",
       "</div>"
      ],
      "text/plain": [
       "                                                                                                                                                                                                                                                                                                                                                                                                                 body  \\\n",
       "27517  The YOLO flair exists for the highest stakes, highest risk, plays. We're talking $25K+ on OTM options that expire this week. Your post will be removed and you may be banned if you post some low energy plays.\\n\\n*I am a bot, and this action was performed automatically. Please [contact the moderators of this subreddit](/message/compose/?to=/r/wallstreetbets) if you have any questions or concerns.*   \n",
       "27518  The YOLO flair exists for the highest stakes, highest risk, plays. We're talking $25K+ on OTM options that expire this week. Your post will be removed and you may be banned if you post some low energy plays.\\n\\n*I am a bot, and this action was performed automatically. Please [contact the moderators of this subreddit](/message/compose/?to=/r/wallstreetbets) if you have any questions or concerns.*   \n",
       "\n",
       "                                                                                                                                                                                                                                                                                                                                                     Tokenized  \\\n",
       "27517  ['flair', 'exists', 'highest', 'stakes', 'highest', 'risk', 'plays', 'talking', '25k', 'otm', 'options', 'expire', 'week', 'post', 'removed', 'may', 'banned', 'post', 'low', 'energy', 'plays', 'bot', 'action', 'performed', 'automatically', 'please', 'contact', 'moderators', 'subredditmessagecomposetorwallstreetbets', 'questions', 'concerns']   \n",
       "27518  ['flair', 'exists', 'highest', 'stakes', 'highest', 'risk', 'plays', 'talking', '25k', 'otm', 'options', 'expire', 'week', 'post', 'removed', 'may', 'banned', 'post', 'low', 'energy', 'plays', 'bot', 'action', 'performed', 'automatically', 'please', 'contact', 'moderators', 'subredditmessagecomposetorwallstreetbets', 'questions', 'concerns']   \n",
       "\n",
       "      comment_sentiment comment_ticker sentiment_score  \n",
       "27517           neutral            NaN           0.606  \n",
       "27518           neutral            NaN           0.606  "
      ]
     },
     "execution_count": 306,
     "metadata": {},
     "output_type": "execute_result"
    }
   ],
   "source": [
    "commentsYOLO[[\"body\",\"Tokenized\",\"comment_sentiment\", \"comment_ticker\", \"sentiment_score\"]].tail(2)"
   ]
  },
  {
   "cell_type": "code",
   "execution_count": 275,
   "metadata": {},
   "outputs": [],
   "source": [
    "commentsYOLO.to_csv(\"YOLOcomments_Sentiments_beforescore.csv\")\n",
    "commentsDD.to_csv(\"DDcomments_Sentiments_beforescore.csv\")"
   ]
  },
  {
   "cell_type": "code",
   "execution_count": 311,
   "metadata": {},
   "outputs": [],
   "source": [
    "commentsYOLO[\"sentiment_score\"] = commentsYOLO[\"sentiment_score\"].astype(float)\n",
    "commentsDD[\"sentiment_score\"] = commentsDD[\"sentiment_score\"].astype(float)"
   ]
  },
  {
   "cell_type": "code",
   "execution_count": 345,
   "metadata": {},
   "outputs": [],
   "source": [
    "def sentAnalysis(data, ddf):\n",
    "    sentiments_perticker = dict()\n",
    "    for popticker in ddf.head(10)[\"Ticker\"]:\n",
    "        pos = 0\n",
    "        neg = 0\n",
    "        neu = 0\n",
    "        df = data[data[\"comment_ticker\"]==popticker]\n",
    "        total = len(df)\n",
    "        for senti,score in zip(df[\"comment_sentiment\"],df[\"sentiment_score\"]):\n",
    "            if senti==\"positive\":\n",
    "                pos+=score\n",
    "            if senti==\"negative\":\n",
    "                neg+=score\n",
    "            if senti==\"neutral\":\n",
    "                neu+=score\n",
    "        sentiments_perticker[popticker] = [(pos/total),(neg/total),(neu/total)]\n",
    "    return sentiments_perticker"
   ]
  },
  {
   "cell_type": "code",
   "execution_count": 346,
   "metadata": {},
   "outputs": [],
   "source": [
    "DDsentiments_perticker = pd.DataFrame(sentAnalysis(commentsDD, DDdf), index=[\"Positive\", \"Negative\", \"Neutral\"]).transpose()"
   ]
  },
  {
   "cell_type": "code",
   "execution_count": 347,
   "metadata": {},
   "outputs": [],
   "source": [
    "YOLOsentiments_perticker = pd.DataFrame(sentAnalysis(commentsYOLO, YOLOdf), index=[\"Positive\", \"Negative\", \"Neutral\"]).transpose()"
   ]
  },
  {
   "cell_type": "code",
   "execution_count": 348,
   "metadata": {},
   "outputs": [
    {
     "data": {
      "text/html": [
       "<div>\n",
       "<style scoped>\n",
       "    .dataframe tbody tr th:only-of-type {\n",
       "        vertical-align: middle;\n",
       "    }\n",
       "\n",
       "    .dataframe tbody tr th {\n",
       "        vertical-align: top;\n",
       "    }\n",
       "\n",
       "    .dataframe thead th {\n",
       "        text-align: right;\n",
       "    }\n",
       "</style>\n",
       "<table border=\"1\" class=\"dataframe\">\n",
       "  <thead>\n",
       "    <tr style=\"text-align: right;\">\n",
       "      <th></th>\n",
       "      <th>Positive</th>\n",
       "      <th>Negative</th>\n",
       "      <th>Neutral</th>\n",
       "    </tr>\n",
       "  </thead>\n",
       "  <tbody>\n",
       "    <tr>\n",
       "      <td>GME</td>\n",
       "      <td>0.028113</td>\n",
       "      <td>0.020966</td>\n",
       "      <td>0.689117</td>\n",
       "    </tr>\n",
       "    <tr>\n",
       "      <td>AMC</td>\n",
       "      <td>0.043607</td>\n",
       "      <td>0.012442</td>\n",
       "      <td>0.748236</td>\n",
       "    </tr>\n",
       "    <tr>\n",
       "      <td>SNDL</td>\n",
       "      <td>0.032900</td>\n",
       "      <td>0.013600</td>\n",
       "      <td>0.752833</td>\n",
       "    </tr>\n",
       "    <tr>\n",
       "      <td>PLTR</td>\n",
       "      <td>0.042967</td>\n",
       "      <td>0.011577</td>\n",
       "      <td>0.698893</td>\n",
       "    </tr>\n",
       "    <tr>\n",
       "      <td>TLRY</td>\n",
       "      <td>0.000000</td>\n",
       "      <td>0.000000</td>\n",
       "      <td>0.842923</td>\n",
       "    </tr>\n",
       "    <tr>\n",
       "      <td>CCIV</td>\n",
       "      <td>0.085333</td>\n",
       "      <td>0.000000</td>\n",
       "      <td>0.572000</td>\n",
       "    </tr>\n",
       "    <tr>\n",
       "      <td>NOK</td>\n",
       "      <td>0.071235</td>\n",
       "      <td>0.030265</td>\n",
       "      <td>0.732735</td>\n",
       "    </tr>\n",
       "    <tr>\n",
       "      <td>GO</td>\n",
       "      <td>0.019714</td>\n",
       "      <td>0.019357</td>\n",
       "      <td>0.828143</td>\n",
       "    </tr>\n",
       "    <tr>\n",
       "      <td>SOS</td>\n",
       "      <td>0.051250</td>\n",
       "      <td>0.000000</td>\n",
       "      <td>0.764417</td>\n",
       "    </tr>\n",
       "    <tr>\n",
       "      <td>CTRM</td>\n",
       "      <td>0.000000</td>\n",
       "      <td>0.000000</td>\n",
       "      <td>1.000000</td>\n",
       "    </tr>\n",
       "  </tbody>\n",
       "</table>\n",
       "</div>"
      ],
      "text/plain": [
       "      Positive  Negative   Neutral\n",
       "GME   0.028113  0.020966  0.689117\n",
       "AMC   0.043607  0.012442  0.748236\n",
       "SNDL  0.032900  0.013600  0.752833\n",
       "PLTR  0.042967  0.011577  0.698893\n",
       "TLRY  0.000000  0.000000  0.842923\n",
       "CCIV  0.085333  0.000000  0.572000\n",
       "NOK   0.071235  0.030265  0.732735\n",
       "GO    0.019714  0.019357  0.828143\n",
       "SOS   0.051250  0.000000  0.764417\n",
       "CTRM  0.000000  0.000000  1.000000"
      ]
     },
     "execution_count": 348,
     "metadata": {},
     "output_type": "execute_result"
    }
   ],
   "source": [
    "YOLOsentiments_perticker"
   ]
  },
  {
   "cell_type": "code",
   "execution_count": 354,
   "metadata": {},
   "outputs": [
    {
     "data": {
      "image/png": "[encoded data removed]",
      "text/plain": [
       "<Figure size 432x576 with 2 Axes>"
      ]
     },
     "metadata": {
      "needs_background": "light"
     },
     "output_type": "display_data"
    }
   ],
   "source": [
    "fig, ax = plt.subplots(2, figsize=(6,8))\n",
    "sns.barplot(y=DDsentiments_perticker.index, x='Positive', data=DDsentiments_perticker, ax=ax[0])\n",
    "sns.barplot(y=YOLOsentiments_perticker.index, x='Positive', data=YOLOsentiments_perticker, ax=ax[1])\n",
    "\n",
    "plt.title('Popular Tickers vs Positive Sentiments Score')\n",
    "plt.xlabel('Positive Sentiment Score')\n",
    "plt.ylabel('Popular Stock Tickers')\n",
    "plt.show()"
   ]
  },
  {
   "cell_type": "code",
   "execution_count": null,
   "metadata": {},
   "outputs": [],
   "source": []
  }
 ],
 "metadata": {
  "kernelspec": {
   "display_name": "Python 3",
   "language": "python",
   "name": "python3"
  },
  "language_info": {
   "codemirror_mode": {
    "name": "ipython",
    "version": 3
   },
   "file_extension": ".py",
   "mimetype": "text/x-python",
   "name": "python",
   "nbconvert_exporter": "python",
   "pygments_lexer": "ipython3",
   "version": "3.7.4"
  }
 },
 "nbformat": 4,
 "nbformat_minor": 2
}
