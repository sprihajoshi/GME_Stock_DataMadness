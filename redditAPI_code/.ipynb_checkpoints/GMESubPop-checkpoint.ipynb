{
 "cells": [
  {
   "cell_type": "code",
   "execution_count": 120,
   "metadata": {},
   "outputs": [],
   "source": [
    "import pandas as pd\n",
    "import matplotlib.pyplot as plt\n",
    "from scipy import stats\n",
    "from datetime import date"
   ]
  },
  {
   "cell_type": "markdown",
   "metadata": {},
   "source": [
    "Read in the table of information that was downloaded from RedditAPI."
   ]
  },
  {
   "cell_type": "code",
   "execution_count": 73,
   "metadata": {},
   "outputs": [
    {
     "data": {
      "text/html": [
       "<div>\n",
       "<style scoped>\n",
       "    .dataframe tbody tr th:only-of-type {\n",
       "        vertical-align: middle;\n",
       "    }\n",
       "\n",
       "    .dataframe tbody tr th {\n",
       "        vertical-align: top;\n",
       "    }\n",
       "\n",
       "    .dataframe thead th {\n",
       "        text-align: right;\n",
       "    }\n",
       "</style>\n",
       "<table border=\"1\" class=\"dataframe\">\n",
       "  <thead>\n",
       "    <tr style=\"text-align: right;\">\n",
       "      <th></th>\n",
       "      <th>author</th>\n",
       "      <th>score</th>\n",
       "      <th>utc</th>\n",
       "    </tr>\n",
       "  </thead>\n",
       "  <tbody>\n",
       "    <tr>\n",
       "      <td>0</td>\n",
       "      <td>t2_49l8qytq</td>\n",
       "      <td>275811</td>\n",
       "      <td>1.611897e+09</td>\n",
       "    </tr>\n",
       "    <tr>\n",
       "      <td>1</td>\n",
       "      <td>t2_49l8qytq</td>\n",
       "      <td>275808</td>\n",
       "      <td>1.611897e+09</td>\n",
       "    </tr>\n",
       "    <tr>\n",
       "      <td>2</td>\n",
       "      <td>t2_49l8qytq</td>\n",
       "      <td>248255</td>\n",
       "      <td>1.611983e+09</td>\n",
       "    </tr>\n",
       "    <tr>\n",
       "      <td>3</td>\n",
       "      <td>t2_7xln8iwn</td>\n",
       "      <td>220502</td>\n",
       "      <td>1.611871e+09</td>\n",
       "    </tr>\n",
       "    <tr>\n",
       "      <td>4</td>\n",
       "      <td>t2_49l8qytq</td>\n",
       "      <td>213034</td>\n",
       "      <td>1.613798e+09</td>\n",
       "    </tr>\n",
       "    <tr>\n",
       "      <td>...</td>\n",
       "      <td>...</td>\n",
       "      <td>...</td>\n",
       "      <td>...</td>\n",
       "    </tr>\n",
       "    <tr>\n",
       "      <td>243</td>\n",
       "      <td>t2_l9aeikg</td>\n",
       "      <td>33282</td>\n",
       "      <td>1.611713e+09</td>\n",
       "    </tr>\n",
       "    <tr>\n",
       "      <td>244</td>\n",
       "      <td>t2_1iwypvki</td>\n",
       "      <td>33267</td>\n",
       "      <td>1.612091e+09</td>\n",
       "    </tr>\n",
       "    <tr>\n",
       "      <td>245</td>\n",
       "      <td>t2_4gj05</td>\n",
       "      <td>33219</td>\n",
       "      <td>1.595728e+09</td>\n",
       "    </tr>\n",
       "    <tr>\n",
       "      <td>246</td>\n",
       "      <td>t2_39ilgp3i</td>\n",
       "      <td>33182</td>\n",
       "      <td>1.582006e+09</td>\n",
       "    </tr>\n",
       "    <tr>\n",
       "      <td>247</td>\n",
       "      <td>t2_175yyb</td>\n",
       "      <td>33066</td>\n",
       "      <td>1.611914e+09</td>\n",
       "    </tr>\n",
       "  </tbody>\n",
       "</table>\n",
       "<p>248 rows × 3 columns</p>\n",
       "</div>"
      ],
      "text/plain": [
       "          author   score           utc\n",
       "0    t2_49l8qytq  275811  1.611897e+09\n",
       "1    t2_49l8qytq  275808  1.611897e+09\n",
       "2    t2_49l8qytq  248255  1.611983e+09\n",
       "3    t2_7xln8iwn  220502  1.611871e+09\n",
       "4    t2_49l8qytq  213034  1.613798e+09\n",
       "..           ...     ...           ...\n",
       "243   t2_l9aeikg   33282  1.611713e+09\n",
       "244  t2_1iwypvki   33267  1.612091e+09\n",
       "245     t2_4gj05   33219  1.595728e+09\n",
       "246  t2_39ilgp3i   33182  1.582006e+09\n",
       "247    t2_175yyb   33066  1.611914e+09\n",
       "\n",
       "[248 rows x 3 columns]"
      ]
     },
     "execution_count": 73,
     "metadata": {},
     "output_type": "execute_result"
    }
   ],
   "source": [
    "topSubs=pd.read_csv('submissions_edit.csv',delimiter=';')\n",
    "topSubs"
   ]
  },
  {
   "cell_type": "code",
   "execution_count": 74,
   "metadata": {},
   "outputs": [],
   "source": [
    "#First let's limit the time window to 1 June 2019  and Jan 28, 2021. This is when Gill was supposedly active on the\n",
    "#platform.\n",
    "topSubs=topSubs[topSubs['utc']>=1559246400]\n",
    "topSubs=topSubs[topSubs['utc']<=1616296460]\n",
    "topSubs=topSubs.reset_index(drop=True)"
   ]
  },
  {
   "cell_type": "code",
   "execution_count": 75,
   "metadata": {
    "scrolled": true
   },
   "outputs": [
    {
     "data": {
      "text/html": [
       "<div>\n",
       "<style scoped>\n",
       "    .dataframe tbody tr th:only-of-type {\n",
       "        vertical-align: middle;\n",
       "    }\n",
       "\n",
       "    .dataframe tbody tr th {\n",
       "        vertical-align: top;\n",
       "    }\n",
       "\n",
       "    .dataframe thead th {\n",
       "        text-align: right;\n",
       "    }\n",
       "</style>\n",
       "<table border=\"1\" class=\"dataframe\">\n",
       "  <thead>\n",
       "    <tr style=\"text-align: right;\">\n",
       "      <th></th>\n",
       "      <th>author</th>\n",
       "      <th>score</th>\n",
       "      <th>utc</th>\n",
       "    </tr>\n",
       "  </thead>\n",
       "  <tbody>\n",
       "    <tr>\n",
       "      <td>0</td>\n",
       "      <td>t2_49l8qytq</td>\n",
       "      <td>275811</td>\n",
       "      <td>1.611897e+09</td>\n",
       "    </tr>\n",
       "    <tr>\n",
       "      <td>1</td>\n",
       "      <td>t2_49l8qytq</td>\n",
       "      <td>275808</td>\n",
       "      <td>1.611897e+09</td>\n",
       "    </tr>\n",
       "    <tr>\n",
       "      <td>2</td>\n",
       "      <td>t2_49l8qytq</td>\n",
       "      <td>248255</td>\n",
       "      <td>1.611983e+09</td>\n",
       "    </tr>\n",
       "    <tr>\n",
       "      <td>3</td>\n",
       "      <td>t2_7xln8iwn</td>\n",
       "      <td>220502</td>\n",
       "      <td>1.611871e+09</td>\n",
       "    </tr>\n",
       "    <tr>\n",
       "      <td>4</td>\n",
       "      <td>t2_49l8qytq</td>\n",
       "      <td>213034</td>\n",
       "      <td>1.613798e+09</td>\n",
       "    </tr>\n",
       "    <tr>\n",
       "      <td>...</td>\n",
       "      <td>...</td>\n",
       "      <td>...</td>\n",
       "      <td>...</td>\n",
       "    </tr>\n",
       "    <tr>\n",
       "      <td>234</td>\n",
       "      <td>t2_l9aeikg</td>\n",
       "      <td>33282</td>\n",
       "      <td>1.611713e+09</td>\n",
       "    </tr>\n",
       "    <tr>\n",
       "      <td>235</td>\n",
       "      <td>t2_1iwypvki</td>\n",
       "      <td>33267</td>\n",
       "      <td>1.612091e+09</td>\n",
       "    </tr>\n",
       "    <tr>\n",
       "      <td>236</td>\n",
       "      <td>t2_4gj05</td>\n",
       "      <td>33219</td>\n",
       "      <td>1.595728e+09</td>\n",
       "    </tr>\n",
       "    <tr>\n",
       "      <td>237</td>\n",
       "      <td>t2_39ilgp3i</td>\n",
       "      <td>33182</td>\n",
       "      <td>1.582006e+09</td>\n",
       "    </tr>\n",
       "    <tr>\n",
       "      <td>238</td>\n",
       "      <td>t2_175yyb</td>\n",
       "      <td>33066</td>\n",
       "      <td>1.611914e+09</td>\n",
       "    </tr>\n",
       "  </tbody>\n",
       "</table>\n",
       "<p>239 rows × 3 columns</p>\n",
       "</div>"
      ],
      "text/plain": [
       "          author   score           utc\n",
       "0    t2_49l8qytq  275811  1.611897e+09\n",
       "1    t2_49l8qytq  275808  1.611897e+09\n",
       "2    t2_49l8qytq  248255  1.611983e+09\n",
       "3    t2_7xln8iwn  220502  1.611871e+09\n",
       "4    t2_49l8qytq  213034  1.613798e+09\n",
       "..           ...     ...           ...\n",
       "234   t2_l9aeikg   33282  1.611713e+09\n",
       "235  t2_1iwypvki   33267  1.612091e+09\n",
       "236     t2_4gj05   33219  1.595728e+09\n",
       "237  t2_39ilgp3i   33182  1.582006e+09\n",
       "238    t2_175yyb   33066  1.611914e+09\n",
       "\n",
       "[239 rows x 3 columns]"
      ]
     },
     "execution_count": 75,
     "metadata": {},
     "output_type": "execute_result"
    }
   ],
   "source": [
    "topSubs"
   ]
  },
  {
   "cell_type": "code",
   "execution_count": 76,
   "metadata": {},
   "outputs": [
    {
     "data": {
      "text/plain": [
       "count       239.000000\n",
       "mean      67942.000000\n",
       "std       42523.186166\n",
       "min       33066.000000\n",
       "25%       40572.500000\n",
       "50%       55523.000000\n",
       "75%       77265.500000\n",
       "max      275811.000000\n",
       "Name: score, dtype: float64"
      ]
     },
     "execution_count": 76,
     "metadata": {},
     "output_type": "execute_result"
    }
   ],
   "source": [
    "topSubs['score'].describe()"
   ]
  },
  {
   "cell_type": "markdown",
   "metadata": {},
   "source": [
    "Most popular users, are those with the most frequently occuring and highest scored posts. We will take the mode to see which authors appear most frequently."
   ]
  },
  {
   "cell_type": "code",
   "execution_count": 77,
   "metadata": {},
   "outputs": [
    {
     "data": {
      "text/plain": [
       "count             239\n",
       "unique            217\n",
       "top       t2_49l8qytq\n",
       "freq               15\n",
       "Name: author, dtype: object"
      ]
     },
     "execution_count": 77,
     "metadata": {},
     "output_type": "execute_result"
    }
   ],
   "source": [
    "topSubs['author'].describe()"
   ]
  },
  {
   "cell_type": "markdown",
   "metadata": {},
   "source": [
    "Here user t2_4918qytq has the most highest scoring submissions in this time frame. Let's remove this user name to see who would be the next most popular user."
   ]
  },
  {
   "cell_type": "code",
   "execution_count": 78,
   "metadata": {},
   "outputs": [
    {
     "data": {
      "text/html": [
       "<div>\n",
       "<style scoped>\n",
       "    .dataframe tbody tr th:only-of-type {\n",
       "        vertical-align: middle;\n",
       "    }\n",
       "\n",
       "    .dataframe tbody tr th {\n",
       "        vertical-align: top;\n",
       "    }\n",
       "\n",
       "    .dataframe thead th {\n",
       "        text-align: right;\n",
       "    }\n",
       "</style>\n",
       "<table border=\"1\" class=\"dataframe\">\n",
       "  <thead>\n",
       "    <tr style=\"text-align: right;\">\n",
       "      <th></th>\n",
       "      <th>author</th>\n",
       "      <th>score</th>\n",
       "      <th>utc</th>\n",
       "    </tr>\n",
       "  </thead>\n",
       "  <tbody>\n",
       "    <tr>\n",
       "      <td>0</td>\n",
       "      <td>t2_7xln8iwn</td>\n",
       "      <td>220502</td>\n",
       "      <td>1.611871e+09</td>\n",
       "    </tr>\n",
       "    <tr>\n",
       "      <td>1</td>\n",
       "      <td>t2_ibb4x</td>\n",
       "      <td>209732</td>\n",
       "      <td>1.612004e+09</td>\n",
       "    </tr>\n",
       "    <tr>\n",
       "      <td>2</td>\n",
       "      <td>t2_y5a4a</td>\n",
       "      <td>185100</td>\n",
       "      <td>1.612084e+09</td>\n",
       "    </tr>\n",
       "    <tr>\n",
       "      <td>3</td>\n",
       "      <td>t2_wi0z0</td>\n",
       "      <td>173900</td>\n",
       "      <td>1.611901e+09</td>\n",
       "    </tr>\n",
       "    <tr>\n",
       "      <td>4</td>\n",
       "      <td>t2_3ai9t1</td>\n",
       "      <td>144206</td>\n",
       "      <td>1.613641e+09</td>\n",
       "    </tr>\n",
       "    <tr>\n",
       "      <td>...</td>\n",
       "      <td>...</td>\n",
       "      <td>...</td>\n",
       "      <td>...</td>\n",
       "    </tr>\n",
       "    <tr>\n",
       "      <td>219</td>\n",
       "      <td>t2_l9aeikg</td>\n",
       "      <td>33282</td>\n",
       "      <td>1.611713e+09</td>\n",
       "    </tr>\n",
       "    <tr>\n",
       "      <td>220</td>\n",
       "      <td>t2_1iwypvki</td>\n",
       "      <td>33267</td>\n",
       "      <td>1.612091e+09</td>\n",
       "    </tr>\n",
       "    <tr>\n",
       "      <td>221</td>\n",
       "      <td>t2_4gj05</td>\n",
       "      <td>33219</td>\n",
       "      <td>1.595728e+09</td>\n",
       "    </tr>\n",
       "    <tr>\n",
       "      <td>222</td>\n",
       "      <td>t2_39ilgp3i</td>\n",
       "      <td>33182</td>\n",
       "      <td>1.582006e+09</td>\n",
       "    </tr>\n",
       "    <tr>\n",
       "      <td>223</td>\n",
       "      <td>t2_175yyb</td>\n",
       "      <td>33066</td>\n",
       "      <td>1.611914e+09</td>\n",
       "    </tr>\n",
       "  </tbody>\n",
       "</table>\n",
       "<p>224 rows × 3 columns</p>\n",
       "</div>"
      ],
      "text/plain": [
       "          author   score           utc\n",
       "0    t2_7xln8iwn  220502  1.611871e+09\n",
       "1       t2_ibb4x  209732  1.612004e+09\n",
       "2       t2_y5a4a  185100  1.612084e+09\n",
       "3       t2_wi0z0  173900  1.611901e+09\n",
       "4      t2_3ai9t1  144206  1.613641e+09\n",
       "..           ...     ...           ...\n",
       "219   t2_l9aeikg   33282  1.611713e+09\n",
       "220  t2_1iwypvki   33267  1.612091e+09\n",
       "221     t2_4gj05   33219  1.595728e+09\n",
       "222  t2_39ilgp3i   33182  1.582006e+09\n",
       "223    t2_175yyb   33066  1.611914e+09\n",
       "\n",
       "[224 rows x 3 columns]"
      ]
     },
     "execution_count": 78,
     "metadata": {},
     "output_type": "execute_result"
    }
   ],
   "source": [
    "removeMode=topSubs[topSubs['author']!='t2_49l8qytq']\n",
    "removeMode=removeMode.reset_index(drop=True)\n",
    "removeMode"
   ]
  },
  {
   "cell_type": "code",
   "execution_count": 79,
   "metadata": {},
   "outputs": [
    {
     "data": {
      "text/plain": [
       "count          224\n",
       "unique         216\n",
       "top       t2_bd6q5\n",
       "freq             5\n",
       "Name: author, dtype: object"
      ]
     },
     "execution_count": 79,
     "metadata": {},
     "output_type": "execute_result"
    }
   ],
   "source": [
    "removeMode['author'].describe()"
   ]
  },
  {
   "cell_type": "markdown",
   "metadata": {},
   "source": [
    "t2_bd6q5 has the second highest number of popular submissions. Let's see if there are any more influencial individuals in this group."
   ]
  },
  {
   "cell_type": "code",
   "execution_count": 80,
   "metadata": {},
   "outputs": [
    {
     "data": {
      "text/html": [
       "<div>\n",
       "<style scoped>\n",
       "    .dataframe tbody tr th:only-of-type {\n",
       "        vertical-align: middle;\n",
       "    }\n",
       "\n",
       "    .dataframe tbody tr th {\n",
       "        vertical-align: top;\n",
       "    }\n",
       "\n",
       "    .dataframe thead th {\n",
       "        text-align: right;\n",
       "    }\n",
       "</style>\n",
       "<table border=\"1\" class=\"dataframe\">\n",
       "  <thead>\n",
       "    <tr style=\"text-align: right;\">\n",
       "      <th></th>\n",
       "      <th>author</th>\n",
       "      <th>score</th>\n",
       "      <th>utc</th>\n",
       "    </tr>\n",
       "  </thead>\n",
       "  <tbody>\n",
       "    <tr>\n",
       "      <td>0</td>\n",
       "      <td>t2_7xln8iwn</td>\n",
       "      <td>220502</td>\n",
       "      <td>1.611871e+09</td>\n",
       "    </tr>\n",
       "    <tr>\n",
       "      <td>1</td>\n",
       "      <td>t2_ibb4x</td>\n",
       "      <td>209732</td>\n",
       "      <td>1.612004e+09</td>\n",
       "    </tr>\n",
       "    <tr>\n",
       "      <td>2</td>\n",
       "      <td>t2_y5a4a</td>\n",
       "      <td>185100</td>\n",
       "      <td>1.612084e+09</td>\n",
       "    </tr>\n",
       "    <tr>\n",
       "      <td>3</td>\n",
       "      <td>t2_wi0z0</td>\n",
       "      <td>173900</td>\n",
       "      <td>1.611901e+09</td>\n",
       "    </tr>\n",
       "    <tr>\n",
       "      <td>4</td>\n",
       "      <td>t2_3ai9t1</td>\n",
       "      <td>144206</td>\n",
       "      <td>1.613641e+09</td>\n",
       "    </tr>\n",
       "    <tr>\n",
       "      <td>...</td>\n",
       "      <td>...</td>\n",
       "      <td>...</td>\n",
       "      <td>...</td>\n",
       "    </tr>\n",
       "    <tr>\n",
       "      <td>214</td>\n",
       "      <td>t2_l9aeikg</td>\n",
       "      <td>33282</td>\n",
       "      <td>1.611713e+09</td>\n",
       "    </tr>\n",
       "    <tr>\n",
       "      <td>215</td>\n",
       "      <td>t2_1iwypvki</td>\n",
       "      <td>33267</td>\n",
       "      <td>1.612091e+09</td>\n",
       "    </tr>\n",
       "    <tr>\n",
       "      <td>216</td>\n",
       "      <td>t2_4gj05</td>\n",
       "      <td>33219</td>\n",
       "      <td>1.595728e+09</td>\n",
       "    </tr>\n",
       "    <tr>\n",
       "      <td>217</td>\n",
       "      <td>t2_39ilgp3i</td>\n",
       "      <td>33182</td>\n",
       "      <td>1.582006e+09</td>\n",
       "    </tr>\n",
       "    <tr>\n",
       "      <td>218</td>\n",
       "      <td>t2_175yyb</td>\n",
       "      <td>33066</td>\n",
       "      <td>1.611914e+09</td>\n",
       "    </tr>\n",
       "  </tbody>\n",
       "</table>\n",
       "<p>219 rows × 3 columns</p>\n",
       "</div>"
      ],
      "text/plain": [
       "          author   score           utc\n",
       "0    t2_7xln8iwn  220502  1.611871e+09\n",
       "1       t2_ibb4x  209732  1.612004e+09\n",
       "2       t2_y5a4a  185100  1.612084e+09\n",
       "3       t2_wi0z0  173900  1.611901e+09\n",
       "4      t2_3ai9t1  144206  1.613641e+09\n",
       "..           ...     ...           ...\n",
       "214   t2_l9aeikg   33282  1.611713e+09\n",
       "215  t2_1iwypvki   33267  1.612091e+09\n",
       "216     t2_4gj05   33219  1.595728e+09\n",
       "217  t2_39ilgp3i   33182  1.582006e+09\n",
       "218    t2_175yyb   33066  1.611914e+09\n",
       "\n",
       "[219 rows x 3 columns]"
      ]
     },
     "execution_count": 80,
     "metadata": {},
     "output_type": "execute_result"
    }
   ],
   "source": [
    "removeMode=removeMode[removeMode['author']!='t2_bd6q5']\n",
    "removeMode=removeMode.reset_index(drop=True)\n",
    "removeMode"
   ]
  },
  {
   "cell_type": "code",
   "execution_count": 81,
   "metadata": {},
   "outputs": [
    {
     "data": {
      "text/plain": [
       "count          219\n",
       "unique         215\n",
       "top       t2_7xyxw\n",
       "freq             2\n",
       "Name: author, dtype: object"
      ]
     },
     "execution_count": 81,
     "metadata": {},
     "output_type": "execute_result"
    }
   ],
   "source": [
    "removeMode['author'].describe()"
   ]
  },
  {
   "cell_type": "markdown",
   "metadata": {},
   "source": [
    "t2_7xyxw has the third most popular submissions. As there is only a gap of 4 between the number of submissions and the number of unique individuals, we shall go one further."
   ]
  },
  {
   "cell_type": "code",
   "execution_count": 82,
   "metadata": {},
   "outputs": [
    {
     "data": {
      "text/html": [
       "<div>\n",
       "<style scoped>\n",
       "    .dataframe tbody tr th:only-of-type {\n",
       "        vertical-align: middle;\n",
       "    }\n",
       "\n",
       "    .dataframe tbody tr th {\n",
       "        vertical-align: top;\n",
       "    }\n",
       "\n",
       "    .dataframe thead th {\n",
       "        text-align: right;\n",
       "    }\n",
       "</style>\n",
       "<table border=\"1\" class=\"dataframe\">\n",
       "  <thead>\n",
       "    <tr style=\"text-align: right;\">\n",
       "      <th></th>\n",
       "      <th>author</th>\n",
       "      <th>score</th>\n",
       "      <th>utc</th>\n",
       "    </tr>\n",
       "  </thead>\n",
       "  <tbody>\n",
       "    <tr>\n",
       "      <td>0</td>\n",
       "      <td>t2_7xln8iwn</td>\n",
       "      <td>220502</td>\n",
       "      <td>1.611871e+09</td>\n",
       "    </tr>\n",
       "    <tr>\n",
       "      <td>1</td>\n",
       "      <td>t2_ibb4x</td>\n",
       "      <td>209732</td>\n",
       "      <td>1.612004e+09</td>\n",
       "    </tr>\n",
       "    <tr>\n",
       "      <td>2</td>\n",
       "      <td>t2_y5a4a</td>\n",
       "      <td>185100</td>\n",
       "      <td>1.612084e+09</td>\n",
       "    </tr>\n",
       "    <tr>\n",
       "      <td>3</td>\n",
       "      <td>t2_wi0z0</td>\n",
       "      <td>173900</td>\n",
       "      <td>1.611901e+09</td>\n",
       "    </tr>\n",
       "    <tr>\n",
       "      <td>4</td>\n",
       "      <td>t2_3ai9t1</td>\n",
       "      <td>144206</td>\n",
       "      <td>1.613641e+09</td>\n",
       "    </tr>\n",
       "    <tr>\n",
       "      <td>...</td>\n",
       "      <td>...</td>\n",
       "      <td>...</td>\n",
       "      <td>...</td>\n",
       "    </tr>\n",
       "    <tr>\n",
       "      <td>212</td>\n",
       "      <td>t2_l9aeikg</td>\n",
       "      <td>33282</td>\n",
       "      <td>1.611713e+09</td>\n",
       "    </tr>\n",
       "    <tr>\n",
       "      <td>213</td>\n",
       "      <td>t2_1iwypvki</td>\n",
       "      <td>33267</td>\n",
       "      <td>1.612091e+09</td>\n",
       "    </tr>\n",
       "    <tr>\n",
       "      <td>214</td>\n",
       "      <td>t2_4gj05</td>\n",
       "      <td>33219</td>\n",
       "      <td>1.595728e+09</td>\n",
       "    </tr>\n",
       "    <tr>\n",
       "      <td>215</td>\n",
       "      <td>t2_39ilgp3i</td>\n",
       "      <td>33182</td>\n",
       "      <td>1.582006e+09</td>\n",
       "    </tr>\n",
       "    <tr>\n",
       "      <td>216</td>\n",
       "      <td>t2_175yyb</td>\n",
       "      <td>33066</td>\n",
       "      <td>1.611914e+09</td>\n",
       "    </tr>\n",
       "  </tbody>\n",
       "</table>\n",
       "<p>217 rows × 3 columns</p>\n",
       "</div>"
      ],
      "text/plain": [
       "          author   score           utc\n",
       "0    t2_7xln8iwn  220502  1.611871e+09\n",
       "1       t2_ibb4x  209732  1.612004e+09\n",
       "2       t2_y5a4a  185100  1.612084e+09\n",
       "3       t2_wi0z0  173900  1.611901e+09\n",
       "4      t2_3ai9t1  144206  1.613641e+09\n",
       "..           ...     ...           ...\n",
       "212   t2_l9aeikg   33282  1.611713e+09\n",
       "213  t2_1iwypvki   33267  1.612091e+09\n",
       "214     t2_4gj05   33219  1.595728e+09\n",
       "215  t2_39ilgp3i   33182  1.582006e+09\n",
       "216    t2_175yyb   33066  1.611914e+09\n",
       "\n",
       "[217 rows x 3 columns]"
      ]
     },
     "execution_count": 82,
     "metadata": {},
     "output_type": "execute_result"
    }
   ],
   "source": [
    "removeMode=removeMode[removeMode['author']!='t2_7xyxw']\n",
    "removeMode=removeMode.reset_index(drop=True)\n",
    "removeMode"
   ]
  },
  {
   "cell_type": "code",
   "execution_count": 83,
   "metadata": {},
   "outputs": [
    {
     "data": {
      "text/plain": [
       "0    t2_106nm59t\n",
       "1       t2_aqg7k\n",
       "2       t2_yesu4\n",
       "dtype: object"
      ]
     },
     "execution_count": 83,
     "metadata": {},
     "output_type": "execute_result"
    }
   ],
   "source": [
    "removeMode['author'].mode()"
   ]
  },
  {
   "cell_type": "markdown",
   "metadata": {},
   "source": [
    "t2_aqg7k,t2_106nm59t and t2_yesu4 have emerged as other potentially influencial users having a total of 2 of the top posts in the subreddit."
   ]
  },
  {
   "cell_type": "code",
   "execution_count": 84,
   "metadata": {
    "scrolled": true
   },
   "outputs": [],
   "source": [
    "removeMode=removeMode[removeMode['author']!='t2_106nm59t']\n",
    "removeMode=removeMode[removeMode['author']!='t2_aqg7k']\n",
    "removeMode=removeMode[removeMode['author']!='t2_yesu4']\n",
    "removeMode=removeMode.reset_index(drop=True)\n",
    "removeMode"
   ]
  },
  {
   "cell_type": "markdown",
   "metadata": {},
   "source": [
    "Since, we have identified the six most influential individuals in the subreddit, let's chart their popularity over time. It is clear that user t2_4918qytq (aka DeepFuckingValue) is the most influential on the wallstreetbets subreddit as 15 of his posts were among the top 239 posts from 1 June 2019 to 28 January 2021 that discussed the Gamestop stock. In second place was user, t2_bd6q5 otherwise known as OPINION_IS_UNPOPULAR, a rather ironic username as 5 of his posts were among the top-scored posts in this time frame. Rounding out third place are users (t2_7xyxw,t2_106nm59t,t2_aqg7k and t2_yesu4) or (PaTTeRN_iNTeGRiTy, Tsukune_Surprise and aBetterNation), each with 2 posts each that earned a spot on the list of top posts. \n",
    "\n",
    "However, it is clear that DeepFuckingValue(or DFV to keep the level of profanity to a minimum) is the most popular of the bunch on this topic with 3 times as many top-scoring posts as the second-place influencer."
   ]
  },
  {
   "cell_type": "markdown",
   "metadata": {},
   "source": [
    "Now, we shall look at the descriptive statistics for each influencer to gauage how popular they were in general on the subreddit, WallStreetBets. In this case, we will look at their submission history in general to compare their popularity within this community."
   ]
  },
  {
   "cell_type": "markdown",
   "metadata": {},
   "source": [
    "Note: In the course of this analysis it was noted that the user PaTTeRN_iNTeGRiTy's account is currently suspended and could not be accessed for further analysis."
   ]
  },
  {
   "cell_type": "markdown",
   "metadata": {},
   "source": [
    "Starting with DFV..."
   ]
  },
  {
   "cell_type": "markdown",
   "metadata": {},
   "source": [
    "First, let's clean the data."
   ]
  },
  {
   "cell_type": "code",
   "execution_count": 91,
   "metadata": {},
   "outputs": [],
   "source": [
    "def data_clean(topSubs):\n",
    "    topSubs=topSubs[topSubs['utc']>=1559246400]\n",
    "    topSubs=topSubs[topSubs['utc']<=1616296460]\n",
    "    topSubs=topSubs[topSubs['subreddit']=='wallstreetbets']\n",
    "    topSubs=topSubs.reset_index(drop=True)\n",
    "    return topSubs"
   ]
  },
  {
   "cell_type": "code",
   "execution_count": 86,
   "metadata": {
    "scrolled": true
   },
   "outputs": [
    {
     "data": {
      "text/html": [
       "<div>\n",
       "<style scoped>\n",
       "    .dataframe tbody tr th:only-of-type {\n",
       "        vertical-align: middle;\n",
       "    }\n",
       "\n",
       "    .dataframe tbody tr th {\n",
       "        vertical-align: top;\n",
       "    }\n",
       "\n",
       "    .dataframe thead th {\n",
       "        text-align: right;\n",
       "    }\n",
       "</style>\n",
       "<table border=\"1\" class=\"dataframe\">\n",
       "  <thead>\n",
       "    <tr style=\"text-align: right;\">\n",
       "      <th></th>\n",
       "      <th>score</th>\n",
       "      <th>utc</th>\n",
       "      <th>subreddit</th>\n",
       "    </tr>\n",
       "  </thead>\n",
       "  <tbody>\n",
       "    <tr>\n",
       "      <td>0</td>\n",
       "      <td>161404</td>\n",
       "      <td>1.615267e+09</td>\n",
       "      <td>wallstreetbets</td>\n",
       "    </tr>\n",
       "    <tr>\n",
       "      <td>1</td>\n",
       "      <td>161413</td>\n",
       "      <td>1.615267e+09</td>\n",
       "      <td>wallstreetbets</td>\n",
       "    </tr>\n",
       "    <tr>\n",
       "      <td>2</td>\n",
       "      <td>142358</td>\n",
       "      <td>1.614402e+09</td>\n",
       "      <td>wallstreetbets</td>\n",
       "    </tr>\n",
       "    <tr>\n",
       "      <td>3</td>\n",
       "      <td>213044</td>\n",
       "      <td>1.613798e+09</td>\n",
       "      <td>wallstreetbets</td>\n",
       "    </tr>\n",
       "    <tr>\n",
       "      <td>4</td>\n",
       "      <td>140085</td>\n",
       "      <td>1.612416e+09</td>\n",
       "      <td>wallstreetbets</td>\n",
       "    </tr>\n",
       "  </tbody>\n",
       "</table>\n",
       "</div>"
      ],
      "text/plain": [
       "    score           utc       subreddit\n",
       "0  161404  1.615267e+09  wallstreetbets\n",
       "1  161413  1.615267e+09  wallstreetbets\n",
       "2  142358  1.614402e+09  wallstreetbets\n",
       "3  213044  1.613798e+09  wallstreetbets\n",
       "4  140085  1.612416e+09  wallstreetbets"
      ]
     },
     "execution_count": 86,
     "metadata": {},
     "output_type": "execute_result"
    }
   ],
   "source": [
    "dfv=pd.read_csv('DFV.csv',delimiter=';')\n",
    "dfv=data_clean(dfv)\n",
    "dfv.head()"
   ]
  },
  {
   "cell_type": "code",
   "execution_count": 92,
   "metadata": {},
   "outputs": [
    {
     "data": {
      "text/plain": [
       "count        54.000000\n",
       "mean      45763.759259\n",
       "std       76583.253108\n",
       "min          21.000000\n",
       "25%         316.750000\n",
       "50%        4442.500000\n",
       "75%       48588.000000\n",
       "max      275820.000000\n",
       "Name: score, dtype: float64"
      ]
     },
     "execution_count": 92,
     "metadata": {},
     "output_type": "execute_result"
    }
   ],
   "source": [
    "dfv['score'].describe()"
   ]
  },
  {
   "cell_type": "code",
   "execution_count": 93,
   "metadata": {},
   "outputs": [
    {
     "data": {
      "image/png": "[encoded data removed]",
      "text/plain": [
       "<Figure size 432x288 with 1 Axes>"
      ]
     },
     "metadata": {
      "needs_background": "light"
     },
     "output_type": "display_data"
    }
   ],
   "source": [
    "dfv_histo=dfv['score'].hist(bins=20)\n"
   ]
  },
  {
   "cell_type": "code",
   "execution_count": 94,
   "metadata": {},
   "outputs": [
    {
     "data": {
      "image/png": "[encoded data removed]",
      "text/plain": [
       "<Figure size 432x288 with 1 Axes>"
      ]
     },
     "metadata": {
      "needs_background": "light"
     },
     "output_type": "display_data"
    }
   ],
   "source": [
    "boxplot=dfv.boxplot(column=['score'])"
   ]
  },
  {
   "cell_type": "markdown",
   "metadata": {},
   "source": [
    "From the data, the scores that DFV earned for his submission is heavily skewed to the left. Since, there are 20 bins in the histogram, most of his submissions on wallstreet bets received scores (or upvotes) that were between 21 and 48,588. The larger scores, greater than 100,000 were outliers when looking at his overall submission history. When looking at the median score, his submissions received much less than 50,000 upvotes (around 4,443). Thus, his posts usually do not attract such extreme popularity as we see at the higher end of the range at over 275,000 upvotes."
   ]
  },
  {
   "cell_type": "markdown",
   "metadata": {},
   "source": [
    "Next up for analysis, OPINION_IS_UNPOPULAR..."
   ]
  },
  {
   "cell_type": "markdown",
   "metadata": {},
   "source": [
    "Cleaning the data."
   ]
  },
  {
   "cell_type": "code",
   "execution_count": 95,
   "metadata": {},
   "outputs": [
    {
     "data": {
      "text/html": [
       "<div>\n",
       "<style scoped>\n",
       "    .dataframe tbody tr th:only-of-type {\n",
       "        vertical-align: middle;\n",
       "    }\n",
       "\n",
       "    .dataframe tbody tr th {\n",
       "        vertical-align: top;\n",
       "    }\n",
       "\n",
       "    .dataframe thead th {\n",
       "        text-align: right;\n",
       "    }\n",
       "</style>\n",
       "<table border=\"1\" class=\"dataframe\">\n",
       "  <thead>\n",
       "    <tr style=\"text-align: right;\">\n",
       "      <th></th>\n",
       "      <th>score</th>\n",
       "      <th>utc</th>\n",
       "      <th>subreddit</th>\n",
       "    </tr>\n",
       "  </thead>\n",
       "  <tbody>\n",
       "    <tr>\n",
       "      <td>0</td>\n",
       "      <td>1615</td>\n",
       "      <td>1.616278e+09</td>\n",
       "      <td>wallstreetbets</td>\n",
       "    </tr>\n",
       "    <tr>\n",
       "      <td>1</td>\n",
       "      <td>1613</td>\n",
       "      <td>1.616278e+09</td>\n",
       "      <td>wallstreetbets</td>\n",
       "    </tr>\n",
       "    <tr>\n",
       "      <td>2</td>\n",
       "      <td>21483</td>\n",
       "      <td>1.616229e+09</td>\n",
       "      <td>wallstreetbets</td>\n",
       "    </tr>\n",
       "    <tr>\n",
       "      <td>3</td>\n",
       "      <td>35209</td>\n",
       "      <td>1.616186e+09</td>\n",
       "      <td>wallstreetbets</td>\n",
       "    </tr>\n",
       "    <tr>\n",
       "      <td>4</td>\n",
       "      <td>1311</td>\n",
       "      <td>1.616213e+09</td>\n",
       "      <td>wallstreetbets</td>\n",
       "    </tr>\n",
       "  </tbody>\n",
       "</table>\n",
       "</div>"
      ],
      "text/plain": [
       "   score           utc       subreddit\n",
       "0   1615  1.616278e+09  wallstreetbets\n",
       "1   1613  1.616278e+09  wallstreetbets\n",
       "2  21483  1.616229e+09  wallstreetbets\n",
       "3  35209  1.616186e+09  wallstreetbets\n",
       "4   1311  1.616213e+09  wallstreetbets"
      ]
     },
     "execution_count": 95,
     "metadata": {},
     "output_type": "execute_result"
    }
   ],
   "source": [
    "oiu=pd.read_csv('oiu.csv',delimiter=';')\n",
    "oiu=data_clean(oiu)\n",
    "oiu.head()"
   ]
  },
  {
   "cell_type": "code",
   "execution_count": 96,
   "metadata": {},
   "outputs": [
    {
     "data": {
      "text/plain": [
       "count      181.000000\n",
       "mean      7139.060773\n",
       "std      11461.482713\n",
       "min          0.000000\n",
       "25%        562.000000\n",
       "50%       1614.000000\n",
       "75%       6618.000000\n",
       "max      50607.000000\n",
       "Name: score, dtype: float64"
      ]
     },
     "execution_count": 96,
     "metadata": {},
     "output_type": "execute_result"
    }
   ],
   "source": [
    "oiu['score'].describe()"
   ]
  },
  {
   "cell_type": "code",
   "execution_count": 97,
   "metadata": {},
   "outputs": [
    {
     "data": {
      "image/png": "[encoded data removed]",
      "text/plain": [
       "<Figure size 432x288 with 1 Axes>"
      ]
     },
     "metadata": {
      "needs_background": "light"
     },
     "output_type": "display_data"
    }
   ],
   "source": [
    "oiu_histo=oiu['score'].hist(bins=10)"
   ]
  },
  {
   "cell_type": "code",
   "execution_count": 98,
   "metadata": {},
   "outputs": [
    {
     "data": {
      "image/png": "[encoded data removed]",
      "text/plain": [
       "<Figure size 432x288 with 1 Axes>"
      ]
     },
     "metadata": {
      "needs_background": "light"
     },
     "output_type": "display_data"
    }
   ],
   "source": [
    "boxplot=oiu.boxplot(column=['score'])"
   ]
  },
  {
   "cell_type": "markdown",
   "metadata": {},
   "source": [
    "For the user, OPINION_IS_UNPOPULAR, compared to DFV his submissions in this time frame did occasionally fail to elicit any upvotes.(Perhaps this is the reason for their username.) Regardless, most of their submissions fail to reach 10,000 votes, with the heaviest concentration earning anywhere from 0 to approximately 6618. \n",
    "\n",
    "Despite the large number of outliers, the median score of OPINION_IS_UNPOPULAR is still relatively low at around 1614. "
   ]
  },
  {
   "cell_type": "markdown",
   "metadata": {},
   "source": [
    "Now, we look towards Tsukune_Surprise."
   ]
  },
  {
   "cell_type": "code",
   "execution_count": 99,
   "metadata": {},
   "outputs": [
    {
     "data": {
      "text/html": [
       "<div>\n",
       "<style scoped>\n",
       "    .dataframe tbody tr th:only-of-type {\n",
       "        vertical-align: middle;\n",
       "    }\n",
       "\n",
       "    .dataframe tbody tr th {\n",
       "        vertical-align: top;\n",
       "    }\n",
       "\n",
       "    .dataframe thead th {\n",
       "        text-align: right;\n",
       "    }\n",
       "</style>\n",
       "<table border=\"1\" class=\"dataframe\">\n",
       "  <thead>\n",
       "    <tr style=\"text-align: right;\">\n",
       "      <th></th>\n",
       "      <th>score</th>\n",
       "      <th>utc</th>\n",
       "      <th>subreddit</th>\n",
       "    </tr>\n",
       "  </thead>\n",
       "  <tbody>\n",
       "    <tr>\n",
       "      <td>0</td>\n",
       "      <td>1</td>\n",
       "      <td>1.613702e+09</td>\n",
       "      <td>wallstreetbets</td>\n",
       "    </tr>\n",
       "    <tr>\n",
       "      <td>1</td>\n",
       "      <td>0</td>\n",
       "      <td>1.613458e+09</td>\n",
       "      <td>wallstreetbets</td>\n",
       "    </tr>\n",
       "    <tr>\n",
       "      <td>2</td>\n",
       "      <td>510</td>\n",
       "      <td>1.613118e+09</td>\n",
       "      <td>wallstreetbets</td>\n",
       "    </tr>\n",
       "    <tr>\n",
       "      <td>3</td>\n",
       "      <td>0</td>\n",
       "      <td>1.612589e+09</td>\n",
       "      <td>wallstreetbets</td>\n",
       "    </tr>\n",
       "    <tr>\n",
       "      <td>4</td>\n",
       "      <td>25</td>\n",
       "      <td>1.612489e+09</td>\n",
       "      <td>wallstreetbets</td>\n",
       "    </tr>\n",
       "  </tbody>\n",
       "</table>\n",
       "</div>"
      ],
      "text/plain": [
       "   score           utc       subreddit\n",
       "0      1  1.613702e+09  wallstreetbets\n",
       "1      0  1.613458e+09  wallstreetbets\n",
       "2    510  1.613118e+09  wallstreetbets\n",
       "3      0  1.612589e+09  wallstreetbets\n",
       "4     25  1.612489e+09  wallstreetbets"
      ]
     },
     "execution_count": 99,
     "metadata": {},
     "output_type": "execute_result"
    }
   ],
   "source": [
    "ts=pd.read_csv('TS.csv',delimiter=';')\n",
    "ts=data_clean(ts)\n",
    "ts.head()"
   ]
  },
  {
   "cell_type": "code",
   "execution_count": 100,
   "metadata": {
    "scrolled": true
   },
   "outputs": [
    {
     "data": {
      "text/plain": [
       "count       37.000000\n",
       "mean      3288.324324\n",
       "std      13597.143947\n",
       "min          0.000000\n",
       "25%          1.000000\n",
       "50%         25.000000\n",
       "75%        510.000000\n",
       "max      76836.000000\n",
       "Name: score, dtype: float64"
      ]
     },
     "execution_count": 100,
     "metadata": {},
     "output_type": "execute_result"
    }
   ],
   "source": [
    "ts['score'].describe()"
   ]
  },
  {
   "cell_type": "code",
   "execution_count": 101,
   "metadata": {},
   "outputs": [
    {
     "data": {
      "image/png": "[encoded data removed]",
      "text/plain": [
       "<Figure size 432x288 with 1 Axes>"
      ]
     },
     "metadata": {
      "needs_background": "light"
     },
     "output_type": "display_data"
    }
   ],
   "source": [
    "ts_histo=ts['score'].hist(bins=30)"
   ]
  },
  {
   "cell_type": "markdown",
   "metadata": {},
   "source": [
    "Given the histogram and the score statistics for Tsukune_Surprise, a box-plot would not offer any further insight because the range of this data set is approximately 77,000. This is of course the result of the high number of upvotes this individual received on a few occasions. However, these data points were retained because this study is done to better understand how the popularity of these individuals influened the frenze around gamestop stock squeeze that was organized in this time frame.\n",
    "\n",
    "Despite relatively low popularity and a low number of upvotes on their submissions, there were instances in which Tsukune_Surprise received a high number of upvotes (greater than 30,000). This is due to the gamestop craze as two of their submissions, which is evident in the histogram managed to break into the top 239 posts on gamestop. Due to the media attention at the time and the positive momentum that the idea of squeezing the gamestop stock garnered on the subreddit, it is not surprising to see these high numbers despite a history of a low number of upvotes per submission."
   ]
  },
  {
   "cell_type": "markdown",
   "metadata": {},
   "source": [
    "Finally, we will look at the user, aBetterNation."
   ]
  },
  {
   "cell_type": "code",
   "execution_count": 103,
   "metadata": {},
   "outputs": [
    {
     "data": {
      "text/html": [
       "<div>\n",
       "<style scoped>\n",
       "    .dataframe tbody tr th:only-of-type {\n",
       "        vertical-align: middle;\n",
       "    }\n",
       "\n",
       "    .dataframe tbody tr th {\n",
       "        vertical-align: top;\n",
       "    }\n",
       "\n",
       "    .dataframe thead th {\n",
       "        text-align: right;\n",
       "    }\n",
       "</style>\n",
       "<table border=\"1\" class=\"dataframe\">\n",
       "  <thead>\n",
       "    <tr style=\"text-align: right;\">\n",
       "      <th></th>\n",
       "      <th>score</th>\n",
       "      <th>utc</th>\n",
       "      <th>subreddit</th>\n",
       "    </tr>\n",
       "  </thead>\n",
       "  <tbody>\n",
       "    <tr>\n",
       "      <td>0</td>\n",
       "      <td>52074</td>\n",
       "      <td>1.615953e+09</td>\n",
       "      <td>wallstreetbets</td>\n",
       "    </tr>\n",
       "    <tr>\n",
       "      <td>1</td>\n",
       "      <td>52082</td>\n",
       "      <td>1.615953e+09</td>\n",
       "      <td>wallstreetbets</td>\n",
       "    </tr>\n",
       "    <tr>\n",
       "      <td>2</td>\n",
       "      <td>0</td>\n",
       "      <td>1.615953e+09</td>\n",
       "      <td>wallstreetbets</td>\n",
       "    </tr>\n",
       "    <tr>\n",
       "      <td>3</td>\n",
       "      <td>0</td>\n",
       "      <td>1.615953e+09</td>\n",
       "      <td>wallstreetbets</td>\n",
       "    </tr>\n",
       "    <tr>\n",
       "      <td>4</td>\n",
       "      <td>0</td>\n",
       "      <td>1.615953e+09</td>\n",
       "      <td>wallstreetbets</td>\n",
       "    </tr>\n",
       "  </tbody>\n",
       "</table>\n",
       "</div>"
      ],
      "text/plain": [
       "   score           utc       subreddit\n",
       "0  52074  1.615953e+09  wallstreetbets\n",
       "1  52082  1.615953e+09  wallstreetbets\n",
       "2      0  1.615953e+09  wallstreetbets\n",
       "3      0  1.615953e+09  wallstreetbets\n",
       "4      0  1.615953e+09  wallstreetbets"
      ]
     },
     "execution_count": 103,
     "metadata": {},
     "output_type": "execute_result"
    }
   ],
   "source": [
    "abn=pd.read_csv('ABN.csv',delimiter=';')\n",
    "abn=data_clean(abn)\n",
    "abn.head()"
   ]
  },
  {
   "cell_type": "code",
   "execution_count": 104,
   "metadata": {},
   "outputs": [
    {
     "data": {
      "text/plain": [
       "count       44.000000\n",
       "mean      4148.750000\n",
       "std      13031.028588\n",
       "min          0.000000\n",
       "25%          1.000000\n",
       "50%          2.000000\n",
       "75%         30.500000\n",
       "max      52082.000000\n",
       "Name: score, dtype: float64"
      ]
     },
     "execution_count": 104,
     "metadata": {},
     "output_type": "execute_result"
    }
   ],
   "source": [
    "abn['score'].describe()"
   ]
  },
  {
   "cell_type": "code",
   "execution_count": 105,
   "metadata": {},
   "outputs": [
    {
     "data": {
      "image/png": "[encoded data removed]",
      "text/plain": [
       "<Figure size 432x288 with 1 Axes>"
      ]
     },
     "metadata": {
      "needs_background": "light"
     },
     "output_type": "display_data"
    }
   ],
   "source": [
    "abn_histo=abn['score'].hist(bins=26)"
   ]
  },
  {
   "cell_type": "markdown",
   "metadata": {},
   "source": [
    "Like the user Tsukune_Surprise, aBetterNation also has a majority of submissions that are in the low scoring range. However, it has quite a few that overperformed with scores of greater than 30,000. This user only had two submissions related to gamestop that were in the top 238 ranked comments. Thus, a few of his more popular posts could be tied to the gamestock squeeze craze that took hold of the subreddit."
   ]
  },
  {
   "cell_type": "markdown",
   "metadata": {},
   "source": [
    "**Summary**"
   ]
  },
  {
   "cell_type": "markdown",
   "metadata": {},
   "source": [
    "Among the five influencers that were identified, it was clear that DFV was the most popular of them all. He was the only individual in this group that did not have a single submission during this time period that received less than 21 upvotes. Also, the maximum number of upvotes that he received for a single submission was more than the maximum score for a single submission by the other three influencers combined. Thus, DFV is clearly quite popular on the subreddit, especially in the time frame from 1 June 2019 until 28 January 2021. What is also interesting to note is that DFV already had a YouTube following before he joined the subreddit (On that platform, he was known as Roaring Kitty.) Thus, it is possible that unlike the other three influencers that a portion of his fanbase followed him to the subreddit platform, boosting his popularity in the community."
   ]
  },
  {
   "cell_type": "markdown",
   "metadata": {},
   "source": [
    "**Statistical Significance?**"
   ]
  },
  {
   "cell_type": "markdown",
   "metadata": {},
   "source": [
    "The question is, is the difference in their popularity statistically significant? There are many confounding variables in this investigation that could put the independence of these influencers at risk. For one, they all participated in the Gameshop stock squeeze that gained national and global attention. Thus, their rise could be highly correlated. However, the one question that we would like to answer is if DFV had an impact beyond the media craze or if the impact of the media was much larger than the influence that one individual could convey."
   ]
  },
  {
   "cell_type": "markdown",
   "metadata": {},
   "source": [
    "To test if these individuals' popularity differs from each other, in this case popularity is measured by the scores they have received for their submissions, we will use the Kruskal-Wallis H-test. This test was chosen over the ANOVA test because the distribution of the scores for each of the influencers are not normal. Here we will assume that the popularity of each individual is a product of their online persona and neglect the impact of any form of social boosting (i.e. endorsements).\n",
    "\n",
    "In this case, we will use the 95% confidence interval to serve as a cut off for statistical significance."
   ]
  },
  {
   "cell_type": "code",
   "execution_count": 108,
   "metadata": {},
   "outputs": [
    {
     "data": {
      "text/plain": [
       "KruskalResult(statistic=98.47724504187765, pvalue=3.302864519731467e-21)"
      ]
     },
     "execution_count": 108,
     "metadata": {},
     "output_type": "execute_result"
    }
   ],
   "source": [
    "dfv_array=dfv['score'].to_numpy()\n",
    "oiu_array=oiu['score'].to_numpy()\n",
    "ts_array=ts['score'].to_numpy()\n",
    "abn_array=abn['score'].to_numpy()\n",
    "\n",
    "stats.kruskal(dfv_array,oiu_array,ts_array,abn_array)"
   ]
  },
  {
   "cell_type": "markdown",
   "metadata": {},
   "source": [
    "From this result, it appears that the popularity scores for each of the four influencers are statistically different from each other. In order to determine whom differs from whom, we will compare each pairing."
   ]
  },
  {
   "cell_type": "markdown",
   "metadata": {},
   "source": [
    "First, we will compare DFV's popularity scores with the other influencers."
   ]
  },
  {
   "cell_type": "code",
   "execution_count": 109,
   "metadata": {},
   "outputs": [
    {
     "name": "stdout",
     "output_type": "stream",
     "text": [
      "OIU: KruskalResult(statistic=6.74317738951506, pvalue=0.009410686752697697)\n",
      "TS: KruskalResult(statistic=34.14989318542614, pvalue=5.10260421451153e-09)\n",
      "ABN: KruskalResult(statistic=43.563571094549346, pvalue=4.1040816890295134e-11)\n"
     ]
    }
   ],
   "source": [
    "print(\"OIU: \"+str(stats.kruskal(dfv_array,oiu_array)))\n",
    "print(\"TS: \"+str(stats.kruskal(dfv_array,ts_array)))\n",
    "print(\"ABN: \"+str(stats.kruskal(dfv_array,abn_array)))"
   ]
  },
  {
   "cell_type": "markdown",
   "metadata": {},
   "source": [
    "As expected, DFV's popularity is statistically different from the other three influencers. He had 4 of the 5 highest ranking posts on this topic in the subreddit."
   ]
  },
  {
   "cell_type": "markdown",
   "metadata": {},
   "source": [
    "Now, we shall analyze OPINION_IS_UNPOPULAR's popularity."
   ]
  },
  {
   "cell_type": "code",
   "execution_count": 110,
   "metadata": {},
   "outputs": [
    {
     "name": "stdout",
     "output_type": "stream",
     "text": [
      "TS: KruskalResult(statistic=43.587190481752614, pvalue=4.054845205483706e-11)\n",
      "ABN: KruskalResult(statistic=56.50070486998409, pvalue=5.6178233483440976e-14)\n"
     ]
    }
   ],
   "source": [
    "print(\"TS: \"+str(stats.kruskal(ts_array,oiu_array)))\n",
    "print(\"ABN: \"+str(stats.kruskal(abn_array,oiu_array)))"
   ]
  },
  {
   "cell_type": "markdown",
   "metadata": {},
   "source": [
    "OPINION_IS_UNPOPULAR also has a statistically significant different popularity score distribution than the other influencers."
   ]
  },
  {
   "cell_type": "markdown",
   "metadata": {},
   "source": [
    "Finally, we shall test the last pair of scores, which is between aBetterNation and Tsukune_Surprise."
   ]
  },
  {
   "cell_type": "code",
   "execution_count": 111,
   "metadata": {},
   "outputs": [
    {
     "name": "stdout",
     "output_type": "stream",
     "text": [
      "TS: KruskalResult(statistic=3.7327764800751373, pvalue=0.053354635462371805)\n"
     ]
    }
   ],
   "source": [
    "print(\"TS: \"+str(stats.kruskal(ts_array,abn_array)))"
   ]
  },
  {
   "cell_type": "markdown",
   "metadata": {},
   "source": [
    "Interestingly, the distribution of popularity scores between Tsukune_Surprise and aBetterNation are not statistically different from each other because the p-value is larger than 0.05. Their historgrams also lend credence to this because they are quite similar although the values of the outliers differ by a few tens of thousands."
   ]
  },
  {
   "cell_type": "markdown",
   "metadata": {},
   "source": [
    "**GME Stock Price**"
   ]
  },
  {
   "cell_type": "markdown",
   "metadata": {},
   "source": [
    "Now, we shall compare the performance of the stock price to that of the popularity of the four influencers we identified: DFV, OPINION_IS_UNPOPULAR, aBetterNation and Tsukune_Surprise."
   ]
  },
  {
   "cell_type": "code",
   "execution_count": 143,
   "metadata": {},
   "outputs": [
    {
     "data": {
      "text/html": [
       "<div>\n",
       "<style scoped>\n",
       "    .dataframe tbody tr th:only-of-type {\n",
       "        vertical-align: middle;\n",
       "    }\n",
       "\n",
       "    .dataframe tbody tr th {\n",
       "        vertical-align: top;\n",
       "    }\n",
       "\n",
       "    .dataframe thead th {\n",
       "        text-align: right;\n",
       "    }\n",
       "</style>\n",
       "<table border=\"1\" class=\"dataframe\">\n",
       "  <thead>\n",
       "    <tr style=\"text-align: right;\">\n",
       "      <th></th>\n",
       "      <th>Date</th>\n",
       "      <th>Open</th>\n",
       "      <th>High</th>\n",
       "      <th>Low</th>\n",
       "      <th>Close</th>\n",
       "      <th>Volume</th>\n",
       "      <th>Dividends</th>\n",
       "      <th>Stock Splits</th>\n",
       "    </tr>\n",
       "  </thead>\n",
       "  <tbody>\n",
       "    <tr>\n",
       "      <td>0</td>\n",
       "      <td>2/4/2021</td>\n",
       "      <td>91.190000</td>\n",
       "      <td>91.500000</td>\n",
       "      <td>53.33</td>\n",
       "      <td>53.50</td>\n",
       "      <td>61903600</td>\n",
       "      <td>0.0</td>\n",
       "      <td>0</td>\n",
       "    </tr>\n",
       "    <tr>\n",
       "      <td>1</td>\n",
       "      <td>2/3/2021</td>\n",
       "      <td>112.010000</td>\n",
       "      <td>113.400000</td>\n",
       "      <td>85.25</td>\n",
       "      <td>92.41</td>\n",
       "      <td>42698500</td>\n",
       "      <td>0.0</td>\n",
       "      <td>0</td>\n",
       "    </tr>\n",
       "    <tr>\n",
       "      <td>2</td>\n",
       "      <td>2/2/2021</td>\n",
       "      <td>140.760000</td>\n",
       "      <td>158.000000</td>\n",
       "      <td>74.22</td>\n",
       "      <td>90.00</td>\n",
       "      <td>78183100</td>\n",
       "      <td>0.0</td>\n",
       "      <td>0</td>\n",
       "    </tr>\n",
       "    <tr>\n",
       "      <td>3</td>\n",
       "      <td>2/1/2021</td>\n",
       "      <td>316.560000</td>\n",
       "      <td>322.000000</td>\n",
       "      <td>212.00</td>\n",
       "      <td>225.00</td>\n",
       "      <td>36655400</td>\n",
       "      <td>0.0</td>\n",
       "      <td>0</td>\n",
       "    </tr>\n",
       "    <tr>\n",
       "      <td>4</td>\n",
       "      <td>1/29/2021</td>\n",
       "      <td>379.709992</td>\n",
       "      <td>413.980011</td>\n",
       "      <td>250.00</td>\n",
       "      <td>325.00</td>\n",
       "      <td>50397132</td>\n",
       "      <td>0.0</td>\n",
       "      <td>0</td>\n",
       "    </tr>\n",
       "  </tbody>\n",
       "</table>\n",
       "</div>"
      ],
      "text/plain": [
       "        Date        Open        High     Low   Close    Volume  Dividends  \\\n",
       "0   2/4/2021   91.190000   91.500000   53.33   53.50  61903600        0.0   \n",
       "1   2/3/2021  112.010000  113.400000   85.25   92.41  42698500        0.0   \n",
       "2   2/2/2021  140.760000  158.000000   74.22   90.00  78183100        0.0   \n",
       "3   2/1/2021  316.560000  322.000000  212.00  225.00  36655400        0.0   \n",
       "4  1/29/2021  379.709992  413.980011  250.00  325.00  50397132        0.0   \n",
       "\n",
       "   Stock Splits  \n",
       "0             0  \n",
       "1             0  \n",
       "2             0  \n",
       "3             0  \n",
       "4             0  "
      ]
     },
     "execution_count": 143,
     "metadata": {},
     "output_type": "execute_result"
    }
   ],
   "source": [
    "gsp=pd.read_csv('GME_Stock_History.csv')\n",
    "gsp.head()"
   ]
  },
  {
   "cell_type": "code",
   "execution_count": 144,
   "metadata": {},
   "outputs": [
    {
     "data": {
      "text/plain": [
       "str"
      ]
     },
     "execution_count": 144,
     "metadata": {},
     "output_type": "execute_result"
    }
   ],
   "source": [
    "type(gsp['Date'][0])"
   ]
  },
  {
   "cell_type": "markdown",
   "metadata": {},
   "source": [
    "First, let's prepare the stock price data. We will start with converting the date column into a date time type. It is currently a string data type."
   ]
  },
  {
   "cell_type": "code",
   "execution_count": 146,
   "metadata": {},
   "outputs": [
    {
     "data": {
      "text/plain": [
       "'2/4/2021'"
      ]
     },
     "execution_count": 146,
     "metadata": {},
     "output_type": "execute_result"
    }
   ],
   "source": [
    "gsp.iat[0,0]"
   ]
  },
  {
   "cell_type": "code",
   "execution_count": 147,
   "metadata": {
    "scrolled": true
   },
   "outputs": [],
   "source": [
    "for i in range(gsp.shape[0]):\n",
    "    a=gsp['Date'][i].split('/')\n",
    "    gsp.iat[i,0]=date(int(a[2]),int(a[0]),int(a[1])).isoformat()"
   ]
  },
  {
   "cell_type": "code",
   "execution_count": 148,
   "metadata": {},
   "outputs": [
    {
     "data": {
      "text/html": [
       "<div>\n",
       "<style scoped>\n",
       "    .dataframe tbody tr th:only-of-type {\n",
       "        vertical-align: middle;\n",
       "    }\n",
       "\n",
       "    .dataframe tbody tr th {\n",
       "        vertical-align: top;\n",
       "    }\n",
       "\n",
       "    .dataframe thead th {\n",
       "        text-align: right;\n",
       "    }\n",
       "</style>\n",
       "<table border=\"1\" class=\"dataframe\">\n",
       "  <thead>\n",
       "    <tr style=\"text-align: right;\">\n",
       "      <th></th>\n",
       "      <th>Date</th>\n",
       "      <th>Open</th>\n",
       "      <th>High</th>\n",
       "      <th>Low</th>\n",
       "      <th>Close</th>\n",
       "      <th>Volume</th>\n",
       "      <th>Dividends</th>\n",
       "      <th>Stock Splits</th>\n",
       "    </tr>\n",
       "  </thead>\n",
       "  <tbody>\n",
       "    <tr>\n",
       "      <td>0</td>\n",
       "      <td>2021-02-04</td>\n",
       "      <td>91.190000</td>\n",
       "      <td>91.500000</td>\n",
       "      <td>53.33</td>\n",
       "      <td>53.50</td>\n",
       "      <td>61903600</td>\n",
       "      <td>0.0</td>\n",
       "      <td>0</td>\n",
       "    </tr>\n",
       "    <tr>\n",
       "      <td>1</td>\n",
       "      <td>2021-02-03</td>\n",
       "      <td>112.010000</td>\n",
       "      <td>113.400000</td>\n",
       "      <td>85.25</td>\n",
       "      <td>92.41</td>\n",
       "      <td>42698500</td>\n",
       "      <td>0.0</td>\n",
       "      <td>0</td>\n",
       "    </tr>\n",
       "    <tr>\n",
       "      <td>2</td>\n",
       "      <td>2021-02-02</td>\n",
       "      <td>140.760000</td>\n",
       "      <td>158.000000</td>\n",
       "      <td>74.22</td>\n",
       "      <td>90.00</td>\n",
       "      <td>78183100</td>\n",
       "      <td>0.0</td>\n",
       "      <td>0</td>\n",
       "    </tr>\n",
       "    <tr>\n",
       "      <td>3</td>\n",
       "      <td>2021-02-01</td>\n",
       "      <td>316.560000</td>\n",
       "      <td>322.000000</td>\n",
       "      <td>212.00</td>\n",
       "      <td>225.00</td>\n",
       "      <td>36655400</td>\n",
       "      <td>0.0</td>\n",
       "      <td>0</td>\n",
       "    </tr>\n",
       "    <tr>\n",
       "      <td>4</td>\n",
       "      <td>2021-01-29</td>\n",
       "      <td>379.709992</td>\n",
       "      <td>413.980011</td>\n",
       "      <td>250.00</td>\n",
       "      <td>325.00</td>\n",
       "      <td>50397132</td>\n",
       "      <td>0.0</td>\n",
       "      <td>0</td>\n",
       "    </tr>\n",
       "  </tbody>\n",
       "</table>\n",
       "</div>"
      ],
      "text/plain": [
       "         Date        Open        High     Low   Close    Volume  Dividends  \\\n",
       "0  2021-02-04   91.190000   91.500000   53.33   53.50  61903600        0.0   \n",
       "1  2021-02-03  112.010000  113.400000   85.25   92.41  42698500        0.0   \n",
       "2  2021-02-02  140.760000  158.000000   74.22   90.00  78183100        0.0   \n",
       "3  2021-02-01  316.560000  322.000000  212.00  225.00  36655400        0.0   \n",
       "4  2021-01-29  379.709992  413.980011  250.00  325.00  50397132        0.0   \n",
       "\n",
       "   Stock Splits  \n",
       "0             0  \n",
       "1             0  \n",
       "2             0  \n",
       "3             0  \n",
       "4             0  "
      ]
     },
     "execution_count": 148,
     "metadata": {},
     "output_type": "execute_result"
    }
   ],
   "source": [
    "gsp.head()"
   ]
  },
  {
   "cell_type": "markdown",
   "metadata": {},
   "source": [
    "Let's restrict the date so that it goes from 1 June 2019 to 28 January 2021."
   ]
  },
  {
   "cell_type": "code",
   "execution_count": 150,
   "metadata": {},
   "outputs": [
    {
     "name": "stderr",
     "output_type": "stream",
     "text": [
      "/Users/trevinalitchmore/opt/anaconda3/lib/python3.7/site-packages/ipykernel_launcher.py:2: UserWarning: Boolean Series key will be reindexed to match DataFrame index.\n",
      "  \n"
     ]
    }
   ],
   "source": [
    "gsp_reduce1=gsp[gsp['Date']>='2019-06-01']\n",
    "gsp=gsp_reduce1[gsp['Date']<='2021-01-28']"
   ]
  },
  {
   "cell_type": "code",
   "execution_count": 162,
   "metadata": {},
   "outputs": [
    {
     "data": {
      "text/html": [
       "<div>\n",
       "<style scoped>\n",
       "    .dataframe tbody tr th:only-of-type {\n",
       "        vertical-align: middle;\n",
       "    }\n",
       "\n",
       "    .dataframe tbody tr th {\n",
       "        vertical-align: top;\n",
       "    }\n",
       "\n",
       "    .dataframe thead th {\n",
       "        text-align: right;\n",
       "    }\n",
       "</style>\n",
       "<table border=\"1\" class=\"dataframe\">\n",
       "  <thead>\n",
       "    <tr style=\"text-align: right;\">\n",
       "      <th></th>\n",
       "      <th>Date</th>\n",
       "      <th>Open</th>\n",
       "      <th>High</th>\n",
       "      <th>Low</th>\n",
       "      <th>Close</th>\n",
       "      <th>Volume</th>\n",
       "      <th>Dividends</th>\n",
       "      <th>Stock Splits</th>\n",
       "    </tr>\n",
       "  </thead>\n",
       "  <tbody>\n",
       "    <tr>\n",
       "      <td>418</td>\n",
       "      <td>2019-06-03</td>\n",
       "      <td>7.58</td>\n",
       "      <td>7.65</td>\n",
       "      <td>7.42</td>\n",
       "      <td>7.47</td>\n",
       "      <td>5229100</td>\n",
       "      <td>0.0</td>\n",
       "      <td>0</td>\n",
       "    </tr>\n",
       "    <tr>\n",
       "      <td>417</td>\n",
       "      <td>2019-06-04</td>\n",
       "      <td>7.58</td>\n",
       "      <td>7.85</td>\n",
       "      <td>7.52</td>\n",
       "      <td>7.82</td>\n",
       "      <td>10430100</td>\n",
       "      <td>0.0</td>\n",
       "      <td>0</td>\n",
       "    </tr>\n",
       "    <tr>\n",
       "      <td>416</td>\n",
       "      <td>2019-06-05</td>\n",
       "      <td>5.49</td>\n",
       "      <td>5.59</td>\n",
       "      <td>4.71</td>\n",
       "      <td>5.04</td>\n",
       "      <td>39354200</td>\n",
       "      <td>0.0</td>\n",
       "      <td>0</td>\n",
       "    </tr>\n",
       "    <tr>\n",
       "      <td>415</td>\n",
       "      <td>2019-06-06</td>\n",
       "      <td>4.98</td>\n",
       "      <td>5.13</td>\n",
       "      <td>4.84</td>\n",
       "      <td>5.13</td>\n",
       "      <td>13558000</td>\n",
       "      <td>0.0</td>\n",
       "      <td>0</td>\n",
       "    </tr>\n",
       "    <tr>\n",
       "      <td>414</td>\n",
       "      <td>2019-06-07</td>\n",
       "      <td>5.13</td>\n",
       "      <td>5.23</td>\n",
       "      <td>4.99</td>\n",
       "      <td>5.02</td>\n",
       "      <td>10591300</td>\n",
       "      <td>0.0</td>\n",
       "      <td>0</td>\n",
       "    </tr>\n",
       "  </tbody>\n",
       "</table>\n",
       "</div>"
      ],
      "text/plain": [
       "           Date  Open  High   Low  Close    Volume  Dividends  Stock Splits\n",
       "418  2019-06-03  7.58  7.65  7.42   7.47   5229100        0.0             0\n",
       "417  2019-06-04  7.58  7.85  7.52   7.82  10430100        0.0             0\n",
       "416  2019-06-05  5.49  5.59  4.71   5.04  39354200        0.0             0\n",
       "415  2019-06-06  4.98  5.13  4.84   5.13  13558000        0.0             0\n",
       "414  2019-06-07  5.13  5.23  4.99   5.02  10591300        0.0             0"
      ]
     },
     "execution_count": 162,
     "metadata": {},
     "output_type": "execute_result"
    }
   ],
   "source": [
    "gsp=gsp.reset_index(drop=True)\n",
    "gsp1=gsp.sort_values(by='Date')\n",
    "gsp1.head()"
   ]
  },
  {
   "cell_type": "markdown",
   "metadata": {},
   "source": [
    "We shall use the closing price when plotting the graph."
   ]
  },
  {
   "cell_type": "code",
   "execution_count": 164,
   "metadata": {},
   "outputs": [
    {
     "data": {
      "image/png": "[encoded data removed]",
      "text/plain": [
       "<Figure size 432x288 with 1 Axes>"
      ]
     },
     "metadata": {
      "needs_background": "light"
     },
     "output_type": "display_data"
    }
   ],
   "source": [
    "plt.plot(gsp1['Date'],gsp1['Close'])\n",
    "plt.show()"
   ]
  },
  {
   "cell_type": "code",
   "execution_count": null,
   "metadata": {},
   "outputs": [],
   "source": []
  }
 ],
 "metadata": {
  "kernelspec": {
   "display_name": "Python 3",
   "language": "python",
   "name": "python3"
  },
  "language_info": {
   "codemirror_mode": {
    "name": "ipython",
    "version": 3
   },
   "file_extension": ".py",
   "mimetype": "text/x-python",
   "name": "python",
   "nbconvert_exporter": "python",
   "pygments_lexer": "ipython3",
   "version": "3.7.4"
  }
 },
 "nbformat": 4,
 "nbformat_minor": 2
}
